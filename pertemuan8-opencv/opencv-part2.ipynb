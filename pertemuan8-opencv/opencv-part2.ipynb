{
 "cells": [
  {
   "attachments": {},
   "cell_type": "markdown",
   "metadata": {},
   "source": [
    "# **BELAJAR COMPUTER VISION - OpenCV Part 2**"
   ]
  },
  {
   "attachments": {},
   "cell_type": "markdown",
   "metadata": {},
   "source": [
    "- Image Crop \n",
    "- Image Resize \n",
    "- Image Blending \n",
    "- Image Conversion"
   ]
  },
  {
   "attachments": {},
   "cell_type": "markdown",
   "metadata": {},
   "source": [
    "### Image Crop\n",
    "\n",
    "- crop image pada OpenCV dilakukan dengan menggunakan *numpy slicing*\n",
    "- dengan notasi `image_array[y_min:y_max , x_min:x_max]`\n",
    "- dimana `y_min`, `y_max`, `x_min` dan `x_max` merupakan titik pixel batas area yang ingin di crop.\n",
    "\n",
    "<img src=\"https://github.com/Muhammad-Yunus/Belajar-Computer-Vision/blob/master/08.%20OpenCV%20-%20Part%202/resource/crop_img.png?raw=true\" style=\"width: 400px;\"></img>"
   ]
  },
  {
   "cell_type": "code",
   "execution_count": 2,
   "metadata": {},
   "outputs": [
    {
     "data": {
      "text/plain": [
       "['e:\\\\BELAJAR-PEMROGRAMAN\\\\Dicky_X_RPL_B\\\\CODING\\\\belajar_computer_vision\\\\belajar_computer_vision\\\\pertemuan8-opencv',\n",
       " 'c:\\\\Users\\\\Dicky\\\\AppData\\\\Local\\\\Programs\\\\Python\\\\Python310\\\\python310.zip',\n",
       " 'c:\\\\Users\\\\Dicky\\\\AppData\\\\Local\\\\Programs\\\\Python\\\\Python310\\\\DLLs',\n",
       " 'c:\\\\Users\\\\Dicky\\\\AppData\\\\Local\\\\Programs\\\\Python\\\\Python310\\\\lib',\n",
       " 'c:\\\\Users\\\\Dicky\\\\AppData\\\\Local\\\\Programs\\\\Python\\\\Python310',\n",
       " '',\n",
       " 'C:\\\\Users\\\\Dicky\\\\AppData\\\\Roaming\\\\Python\\\\Python310\\\\site-packages',\n",
       " 'C:\\\\Users\\\\Dicky\\\\AppData\\\\Roaming\\\\Python\\\\Python310\\\\site-packages\\\\win32',\n",
       " 'C:\\\\Users\\\\Dicky\\\\AppData\\\\Roaming\\\\Python\\\\Python310\\\\site-packages\\\\win32\\\\lib',\n",
       " 'C:\\\\Users\\\\Dicky\\\\AppData\\\\Roaming\\\\Python\\\\Python310\\\\site-packages\\\\Pythonwin',\n",
       " 'c:\\\\Users\\\\Dicky\\\\AppData\\\\Local\\\\Programs\\\\Python\\\\Python310\\\\lib\\\\site-packages']"
      ]
     },
     "execution_count": 2,
     "metadata": {},
     "output_type": "execute_result"
    }
   ],
   "source": [
    "%matplotlib inline\n",
    "import cv2\n",
    "import numpy as np\n",
    "import sys\n",
    "import matplotlib.pyplot as plt\n",
    "import os\n",
    "\n",
    "sys.path"
   ]
  },
  {
   "cell_type": "code",
   "execution_count": 3,
   "metadata": {},
   "outputs": [],
   "source": [
    "img = cv2.imread(\"Dicky.jpg\")"
   ]
  },
  {
   "cell_type": "code",
   "execution_count": 4,
   "metadata": {},
   "outputs": [
    {
     "data": {
      "text/plain": [
       "(400, 400, 3)"
      ]
     },
     "execution_count": 4,
     "metadata": {},
     "output_type": "execute_result"
    }
   ],
   "source": [
    "img.shape"
   ]
  },
  {
   "cell_type": "code",
   "execution_count": 5,
   "metadata": {},
   "outputs": [],
   "source": [
    "\n",
    "#* crop image[y_min:y_max , x_min:x_max]\n",
    "img_crop = img[60:300, 50:270]\n",
    "#* img_crop = img[0:550, 70:270]"
   ]
  },
  {
   "cell_type": "code",
   "execution_count": 6,
   "metadata": {},
   "outputs": [],
   "source": [
    "cv2.imshow('gambar_crop',img_crop)\n",
    "cv2.imshow('gambar asli',img)\n",
    "cv2.waitKey(0)\n",
    "cv2.destroyAllWindows()"
   ]
  },
  {
   "attachments": {},
   "cell_type": "markdown",
   "metadata": {},
   "source": [
    "- setup titik crop melalui **input()**"
   ]
  },
  {
   "cell_type": "code",
   "execution_count": 9,
   "metadata": {},
   "outputs": [],
   "source": [
    "h, w, c = img.shape\n",
    "\n",
    "y_min = int(input(f'masukan nilai y_min [0 - {h}] : '))\n",
    "y_max = int(input(f'masukan nilai y_max [0 - {y_min, h}] :'))\n",
    "x_min = int(input(f'masukan nilai x_min [0 - {w}] :'))\n",
    "x_max = int(input(f'masukan nilai x_max [0 - {x_min, w}] :'))\n",
    "\n",
    "img_crop = img[y_min:y_max, x_min:y_max]\n",
    "\n",
    "#* show image\n",
    "cv2.imshow('cropped image', img_crop)\n",
    "cv2.imshow('original image', img)\n",
    "cv2.waitKey(0)\n",
    "cv2.destroyAllWindows()"
   ]
  },
  {
   "attachments": {},
   "cell_type": "markdown",
   "metadata": {},
   "source": [
    "### Menggunakan Mouse Event Click pada OpenCV\n",
    "\n",
    "- setup titik crop melalui mouse click"
   ]
  },
  {
   "cell_type": "code",
   "execution_count": 10,
   "metadata": {},
   "outputs": [
    {
     "name": "stdout",
     "output_type": "stream",
     "text": [
      "200\n",
      "400\n",
      "400\n"
     ]
    }
   ],
   "source": [
    "\n",
    "#* review global variable\n",
    "x = 200\n",
    "\n",
    "def hitung(flag):\n",
    "    if flag == \"set\":\n",
    "        global x\n",
    "        x = 400\n",
    "\n",
    "    if flag == \"print\":\n",
    "        print(x)\n",
    "\n",
    "print(x)\n",
    "hitung('set')\n",
    "hitung('print')\n",
    "print(x)"
   ]
  },
  {
   "attachments": {},
   "cell_type": "markdown",
   "metadata": {},
   "source": [
    "- untuk menggunakan event mouse click di OpenCV, diperkenalkan beberapa method sebagai berikut,\n",
    "    - `cv2.namedWindow` : set nama window tanpa memanggil `cv2.imshow` terlebih dahulu\n",
    "    - `cv2.setMouseCallback` : create mouse callback, ketika OpenCV mendeteksi ada envent click pada mouse, maka fungsi yang di set pada method ini akan di jalankan.\n",
    "    \n",
    "    \n",
    "    \n",
    "- mouse event parameter:\n",
    "    - `cv2.EVENT_RBUTTONDOWN`\n",
    "    - `cv2.EVENT_RBUTTONUP`\n",
    "    - `cv2.EVENT_LBUTTONDOWN`\n",
    "    - `cv2.EVENT_LBUTTONUP`\n",
    "    - `cv2.EVENT_MOUSEMOVE`\n",
    "    - etc."
   ]
  },
  {
   "cell_type": "code",
   "execution_count": 11,
   "metadata": {},
   "outputs": [],
   "source": [
    "x_start, y_start, x_end, y_end = 0,0,0,0\n",
    "windowName = \"Original Image\" \n",
    "\n",
    "image = cv2.imread('Dicky.jpg')\n",
    "\n",
    "def crop_image(event,x,y,flags,param):\n",
    "    global x_start, y_start, x_end, y_end\n",
    "\n",
    "    #* if the left mouse button clicked\n",
    "    if event == cv2.EVENT_LBUTTONDOWN:\n",
    "        x_start, y_start, x_end, y_end = x,y,x,y\n",
    "\n",
    "    #* mouse is moving\n",
    "    elif event == cv2.EVENT_MOUSEMOVE:\n",
    "        x_end, y_end = x,y\n",
    "\n",
    "    #* if the left mouse button was released\n",
    "    elif event == cv2.EVENT_LBUTTONUP:\n",
    "        cropped_image = image[y_start:y_end, x_start:x_end]\n",
    "        cv2.imshow('cropped image', cropped_image)\n",
    "\n",
    "cv2.namedWindow(windowName)\n",
    "cv2.setMouseCallback(windowName, crop_image)\n",
    "\n",
    "while True:\n",
    "    cv2.imshow(windowName, image)\n",
    "    if cv2.waitKey(1) == ord('q'):\n",
    "        break\n",
    "\n",
    "cv2.destroyAllWindows()"
   ]
  },
  {
   "attachments": {},
   "cell_type": "markdown",
   "metadata": {},
   "source": [
    "### [Task]\n",
    "\n",
    "- modifikasi program diatas bisa save image saat ada event **cv2.EVENT_RBUTTONDOWN**"
   ]
  },
  {
   "cell_type": "code",
   "execution_count": 12,
   "metadata": {},
   "outputs": [],
   "source": [
    "\n",
    "#* --jawaban Versi 1--\n",
    "\n",
    "x_start, y_start, x_end, y_end = 0,0,0,0\n",
    "windowName = \"Original Image\" \n",
    "\n",
    "image = cv2.imread('Dicky.jpg')\n",
    "\n",
    "def crop_image(event,x,y,flags,param):\n",
    "\n",
    "    global x_start, y_start, x_end, y_end\n",
    "    global cropped_image\n",
    "\n",
    "    #* if the left mouse button clicked\n",
    "    if event == cv2.EVENT_LBUTTONDOWN:\n",
    "        x_start, y_start, x_end, y_end = x,y,x,y\n",
    "\n",
    "    #* mouse is moving\n",
    "    elif event == cv2.EVENT_MOUSEMOVE:\n",
    "        x_end, y_end = x,y\n",
    "\n",
    "    #* if the left mouse button was released\n",
    "    elif event == cv2.EVENT_LBUTTONUP:\n",
    "        cropped_image = image[y_start:y_end, x_start:x_end]\n",
    "        cv2.imshow('cropped image', cropped_image)\n",
    "\n",
    "    elif event == cv2.EVENT_RBUTTONDOWN:\n",
    "        cv2.imwrite('cropped image.jpg',cropped_image)\n",
    "        print(\"*image has captured successfully!\")\n",
    "\n",
    "cv2.namedWindow(windowName)\n",
    "cv2.setMouseCallback(windowName, crop_image)\n",
    "\n",
    "while True:\n",
    "    cv2.imshow(windowName, image)\n",
    "    if cv2.waitKey(1) == ord('q'):\n",
    "        break\n",
    "\n",
    "cv2.destroyAllWindows()"
   ]
  },
  {
   "cell_type": "code",
   "execution_count": 13,
   "metadata": {},
   "outputs": [],
   "source": [
    "\n",
    "#* --jawaban versi 2--\n",
    "\n",
    "x_start, y_start, x_end, y_end = 0,0,0,0\n",
    "windowName = \"Original Image\" \n",
    "cropped_windowName = 'cropped image'\n",
    "\n",
    "image = cv2.imread('Dicky.jpg')\n",
    "\n",
    "def crop_image(event,x,y,flags,param):\n",
    "\n",
    "    global x_start, y_start, x_end, y_end\n",
    "    global cropped_image\n",
    "\n",
    "    #* if the left mouse button clicked\n",
    "    if event == cv2.EVENT_LBUTTONDOWN:\n",
    "        x_start, y_start, x_end, y_end = x,y,x,y\n",
    "\n",
    "    #* mouse is moving\n",
    "    elif event == cv2.EVENT_MOUSEMOVE:\n",
    "        x_end, y_end = x,y\n",
    "\n",
    "    #* if the left mouse button was released\n",
    "    elif event == cv2.EVENT_LBUTTONUP:\n",
    "        cropped_image = image[y_start:y_end, x_start:x_end]\n",
    "        cv2.imshow(cropped_windowName, cropped_image)\n",
    "\n",
    "        #* define mouse callback for croped image window\n",
    "        cv2.namedWindow(cropped_windowName)\n",
    "        cv2.setMouseCallback(cropped_windowName, save_image)\n",
    "\n",
    "def save_image(event,x,y,flags,param):\n",
    "    #* if the right mouse button clicked\n",
    "    if event == cv2.EVENT_RBUTTONDOWN:\n",
    "        cv2.imwrite('cropped image.jpg', cropped_image)\n",
    "        print(\"Image saved successfully!\")\n",
    "\n",
    "cv2.namedWindow(windowName)\n",
    "cv2.setMouseCallback(windowName, crop_image)\n",
    "\n",
    "while True:\n",
    "    cv2.imshow(windowName, image)\n",
    "    if cv2.waitKey(1) == ord('q'):\n",
    "        break\n",
    "\n",
    "cv2.destroyAllWindows()"
   ]
  },
  {
   "attachments": {},
   "cell_type": "markdown",
   "metadata": {},
   "source": [
    "### Image Resize\n",
    "\n",
    "- untuk melakukan risize image pada OpenCV diperkenalkan beberapa method berikut:\n",
    "    - **cv2.resize(img, (w_new,h_new))** :resize **img** ke ukuran **w_new** x **h_new**"
   ]
  },
  {
   "cell_type": "code",
   "execution_count": 14,
   "metadata": {},
   "outputs": [],
   "source": [
    "img = cv2.imread('Dicky.jpg')\n",
    "\n",
    "#* resize image (new_width, new_height)\n",
    "img_resized = cv2.resize(img, (320, 320))\n",
    "\n",
    "#* show image\n",
    "cv2.imshow('Original Image', img)\n",
    "cv2.imshow('Resized Image', img_resized)\n",
    "cv2.waitKey(0)\n",
    "cv2.destroyAllWindows()"
   ]
  },
  {
   "attachments": {},
   "cell_type": "markdown",
   "metadata": {},
   "source": [
    "- resize dengan menggunakan rasio ukuran original (hitung manual)"
   ]
  },
  {
   "cell_type": "code",
   "execution_count": 16,
   "metadata": {},
   "outputs": [],
   "source": [
    "ratio = float(input('masukan rasio resize [0 -1.0]: '))\n",
    "\n",
    "img = cv2.imread('Dicky.jpg')\n",
    "h ,w ,c = img.shape\n",
    "\n",
    "width = int(w* ratio)\n",
    "height = int(h* ratio)\n",
    "\n",
    "#* resize image (new_width, new_height)\n",
    "img_resized = cv2.resize(img, (width, height))\n",
    "\n",
    "#* show image\n",
    "cv2.imshow('Original Image', img)\n",
    "cv2.imshow('Resized Image', img_resized)\n",
    "cv2.waitKey(0)\n",
    "cv2.destroyAllWindows()"
   ]
  },
  {
   "attachments": {},
   "cell_type": "markdown",
   "metadata": {},
   "source": [
    "- resize dengan menggunakan rasio ukuran original (fx, fy)"
   ]
  },
  {
   "cell_type": "code",
   "execution_count": 17,
   "metadata": {},
   "outputs": [],
   "source": [
    "img = cv2.imread('Dicky.jpg')\n",
    "\n",
    "img_resized = cv2.resize(img, (0,0), fx=0.8, fy=0.5)\n",
    "\n",
    "#* show image\n",
    "cv2.imshow('Original Image', img)\n",
    "cv2.imshow('Resized Image', img_resized)\n",
    "cv2.waitKey(0)\n",
    "cv2.destroyAllWindows()"
   ]
  },
  {
   "attachments": {},
   "cell_type": "markdown",
   "metadata": {},
   "source": [
    "- resize with **interpolation**\n",
    "- Interpolation parameter :\n",
    "    - `cv2.INTER_NEAREST` : This is using a nearest-neighbor interpolation to shrink an image.\n",
    "    - `cv2.INTER_LINEAR` : This is primarily used when larging is required (default).\n",
    "    - `cv2.INTER_AREA` : This is used when we need need to shrink an image.\n",
    "    - `cv2.INTER_CUBIC` : This is slow for larging image, but more efficient (higer quality)."
   ]
  },
  {
   "cell_type": "code",
   "execution_count": 18,
   "metadata": {},
   "outputs": [],
   "source": [
    "\n",
    "#* --shrinking--\n",
    "\n",
    "img = cv2.imread('Dicky.jpg')\n",
    "\n",
    "img_resized = cv2.resize(img, (0,0), fx=0.8, fy=0.5)\n",
    "img_resized_INTER_NEAREST = cv2.resize(img, (0,0), fx=0.5, fy=0.5, interpolation=cv2.INTER_NEAREST)\n",
    "\n",
    "#* show image\n",
    "cv2.imshow('Original Image', img)\n",
    "cv2.imshow('INTER_LINEAR Resized Image', img_resized)\n",
    "cv2.imshow('INTER_NEAREST Resized Image',img_resized_INTER_NEAREST)\n",
    "cv2.waitKey(0)\n",
    "cv2.destroyAllWindows()"
   ]
  },
  {
   "cell_type": "code",
   "execution_count": 19,
   "metadata": {},
   "outputs": [],
   "source": [
    "\n",
    "#* --larging--\n",
    "\n",
    "img = cv2.imread('logo-python.png')\n",
    "\n",
    "img_resized = cv2.resize(img, (0,0), fx=2.5, fy=2.5)\n",
    "img_resized_INTER_NEAREST = cv2.resize(img, (0,0), fx=2.5, fy=2.5, interpolation=cv2.INTER_NEAREST)\n",
    "img_resized_INTER_CUBIC = cv2.resize(img, (0,0), fx=2.5, fy=2.5, interpolation=cv2.INTER_CUBIC)\n",
    "img_resized_INTER_AREA = cv2.resize(img, (0,0), fx=2.5, fy=2.5, interpolation=cv2.INTER_AREA)\n",
    "\n",
    "\n",
    "#* show image\n",
    "cv2.imshow('Original Image', img)\n",
    "cv2.imshow('INTER_LINEAR Resized Image', img_resized)\n",
    "cv2.imshow('INTER_NEAREST Resized Image',img_resized_INTER_NEAREST)\n",
    "cv2.imshow('INTER_CUBIC Resized Image',img_resized)\n",
    "cv2.imshow('INTER_AREA Resized Image',img_resized_INTER_AREA)\n",
    "cv2.waitKey(0)\n",
    "cv2.destroyAllWindows()\n"
   ]
  },
  {
   "attachments": {},
   "cell_type": "markdown",
   "metadata": {},
   "source": [
    "- Resize in window using mouse event click"
   ]
  },
  {
   "cell_type": "code",
   "execution_count": 20,
   "metadata": {},
   "outputs": [],
   "source": [
    "windowName = \"Original Image\"\n",
    "is_resize = False\n",
    "\n",
    "image = cv2.imread('Dicky.jpg')\n",
    "h, w, c = image.shape\n",
    "y_end, x_end, last_y_end, last_x_end = h, w, h, w\n",
    "\n",
    "background = np.zeros((int(h*1.7), int(w*1.7), c)).astype(np.uint8)\n",
    "bg_h, bg_w, bg_c = background.shape\n",
    "\n",
    "def resize_image(event,x,y,flags,param):\n",
    "    \n",
    "    global x_end, y_end, is_resize, bg_h, bg_w\n",
    "    \n",
    "    # if the left mouse button clicked\n",
    "    if event == cv2.EVENT_LBUTTONDOWN:\n",
    "        x_end, y_end = x, y\n",
    "        is_resize = True\n",
    "\n",
    "    # Mouse is Moving\n",
    "    elif event == cv2.EVENT_MOUSEMOVE:\n",
    "        x_end, y_end = x, y\n",
    "        # set to max size background if x, y mouse larger than size background         \n",
    "        if x_end > bg_w :\n",
    "            x_end = bg_w\n",
    "        if y_end > bg_h :\n",
    "            y_end = bg_h\n",
    "\n",
    "    # if the left mouse button was released\n",
    "    elif event == cv2.EVENT_LBUTTONUP:\n",
    "        is_resize = False\n",
    "        \n",
    "cv2.namedWindow(windowName)\n",
    "cv2.setMouseCallback(windowName, resize_image)\n",
    "\n",
    "while True:\n",
    "    template = background.copy()\n",
    "    if is_resize:\n",
    "        template[:y_end, :x_end] = cv2.resize(image, (x_end, y_end))\n",
    "        last_y_end, last_x_end = y_end, x_end\n",
    "    else :\n",
    "        template[:last_y_end, :last_x_end] = cv2.resize(image, (last_x_end, last_y_end)) \n",
    "        \n",
    "    cv2.imshow(windowName, template)\n",
    "    if cv2.waitKey(1) == ord('q') :\n",
    "        break\n",
    "\n",
    "cv2.destroyAllWindows()\n"
   ]
  },
  {
   "attachments": {},
   "cell_type": "markdown",
   "metadata": {},
   "source": [
    "### Image Blending\n",
    "\n",
    "Image blending diformulasikan sebagai, \\\n",
    "$g(x)=(1−α)f0(x)+αf1(x)$ \\\n",
    "\\\n",
    "$f0$ merupakan gambar pertama, $f1$ merupakan gambar kedua, \\\n",
    "dan $α$ merupakan parameter *temporal cross-dissolve* antara kedua gambar, dimana α  bernilai 0→1.\n",
    "\n",
    "- method yang akan digunakan untuk melakukan image blending adalah `cv2.addWeighted(img1, alpha, img2, beta, gamma)`\n",
    "- dimana `beta = 1 - alpha`\n",
    "- dan `gamma` adalah konstanta untuk menambah atau mengurangi nilai pixel akhir hasil blending (0 - 255).\n",
    "- set `gamma` ke `0.0` untuk default."
   ]
  },
  {
   "cell_type": "code",
   "execution_count": 21,
   "metadata": {},
   "outputs": [],
   "source": [
    "alpha = float(input('masukan nilai alpha [0.0 - 1.0]: '))\n",
    "\n",
    "img1 = cv2.imread('lena.jpg')\n",
    "img2 = cv2.imread('apple.jpg')\n",
    "\n",
    "beta = 1.0 - alpha \n",
    "blending_img = cv2.addWeighted(img1, alpha, img2, beta, 0.0)\n",
    "\n",
    "cv2.imshow('Blending Result',blending_img)\n",
    "cv2.imwrite('Blending Result.jpg', blending_img)\n",
    "cv2.waitKey(0)\n",
    "cv2.destroyAllWindows()"
   ]
  },
  {
   "cell_type": "code",
   "execution_count": 22,
   "metadata": {},
   "outputs": [
    {
     "data": {
      "text/plain": [
       "(344, 354, 3)"
      ]
     },
     "execution_count": 22,
     "metadata": {},
     "output_type": "execute_result"
    }
   ],
   "source": [
    "img1.shape"
   ]
  },
  {
   "cell_type": "code",
   "execution_count": 23,
   "metadata": {},
   "outputs": [
    {
     "data": {
      "text/plain": [
       "(344, 354, 3)"
      ]
     },
     "execution_count": 23,
     "metadata": {},
     "output_type": "execute_result"
    }
   ],
   "source": [
    "img2.shape"
   ]
  },
  {
   "attachments": {},
   "cell_type": "markdown",
   "metadata": {},
   "source": [
    "- blend image with different size, using **cv2.resize()** -> strech"
   ]
  },
  {
   "cell_type": "code",
   "execution_count": 24,
   "metadata": {},
   "outputs": [],
   "source": [
    "alpha = float(input('masukan nilai alpha [0.0 - 1.0]: '))\n",
    "\n",
    "img1 = cv2.imread('Dicky4.jpg')\n",
    "h, w, c = img1.shape\n",
    "\n",
    "img2 = cv2.imread('Dicky.jpg')\n",
    "img2 = cv2.resize(img2, (w, h))\n",
    "\n",
    "beta = 1.0 - alpha\n",
    "blending_img = cv2.addWeighted(img1, alpha, img2, beta, 0.0)\n",
    "\n",
    "cv2.imshow('Blending Result',blending_img)\n",
    "cv2.waitKey(0)\n",
    "cv2.destroyAllWindows()"
   ]
  },
  {
   "attachments": {},
   "cell_type": "markdown",
   "metadata": {},
   "source": [
    "- blend image with different size, using **cv2.resize()** -> fit window\n",
    "\n",
    "<img src=\"https://github.com/Muhammad-Yunus/Belajar-Computer-Vision/blob/master/08.%20OpenCV%20-%20Part%202/resource/blend_diffsize.png?raw=true\" style=\"width:700px;\"></img>"
   ]
  },
  {
   "cell_type": "code",
   "execution_count": 42,
   "metadata": {},
   "outputs": [
    {
     "name": "stdout",
     "output_type": "stream",
     "text": [
      "gambar telah di save!\n"
     ]
    }
   ],
   "source": [
    "alpha = float(input('masukan nilai alpha [0.0 - 1.0]: '))\n",
    "\n",
    "img1 = cv2.imread('Dicky.jpg')\n",
    "h1, w1, c1 = img1.shape\n",
    "\n",
    "img2 = cv2.imread('pisang.jpg')\n",
    "h2, w2, c2 = img2.shape\n",
    "\n",
    "frame_img = np.ones((h1 ,w1, c1)).astype(np.uint8)*255\n",
    "\n",
    "if h2 > w2:\n",
    "    h = h1\n",
    "    w = int(w2*h1/h2)\n",
    "else:\n",
    "    w = w1\n",
    "    h = int(h2*w1/w2)\n",
    "\n",
    "frame_img[:h, :w] = cv2.resize(img2, (w,h))\n",
    "\n",
    "beta = 1.0 - alpha\n",
    "blending_img = cv2.addWeighted(img1, alpha, frame_img, beta, 0.0)\n",
    "\n",
    "cv2.imshow('blending result', blending_img)\n",
    "cv2.imwrite('blending2 result.jpg',blending_img)\n",
    "print('gambar telah di save!')\n",
    "cv2.waitKey(0)\n",
    "cv2.destroyAllWindows()"
   ]
  },
  {
   "cell_type": "code",
   "execution_count": 26,
   "metadata": {},
   "outputs": [
    {
     "data": {
      "text/plain": [
       "(400, 400, 3)"
      ]
     },
     "execution_count": 26,
     "metadata": {},
     "output_type": "execute_result"
    }
   ],
   "source": [
    "img1.shape "
   ]
  },
  {
   "attachments": {},
   "cell_type": "markdown",
   "metadata": {},
   "source": [
    "### [Task]\n",
    "\n",
    "- Create blending two image different size, position center\n",
    "\n",
    "<img src=\"https://github.com/Muhammad-Yunus/Belajar-Computer-Vision/blob/master/08.%20OpenCV%20-%20Part%202/resource/blend_center.png?raw=true\" style=\"width:300px;\"></img>"
   ]
  },
  {
   "cell_type": "code",
   "execution_count": 44,
   "metadata": {},
   "outputs": [
    {
     "name": "stdout",
     "output_type": "stream",
     "text": [
      "gambar telah di save!\n"
     ]
    }
   ],
   "source": [
    "\n",
    "#* --Jawaban--\n",
    "\n",
    "alpha = float(input('masukan nilai alpha [0.0 - 1.0]: '))\n",
    "\n",
    "img1 = cv2.imread('Dicky.jpg')\n",
    "h1, w1, c1 = img1.shape\n",
    "\n",
    "img2 = cv2.imread('pisang.jpg')\n",
    "h2, w2, c2 = img2.shape\n",
    "\n",
    "frame_img = np.ones((h1 ,w1, c1)).astype(np.uint8)*255\n",
    "\n",
    "if h2 > w2:\n",
    "    h = h1\n",
    "    w = int(w2*h1/h2)\n",
    "else:\n",
    "    w = w1\n",
    "    h = int(h2*w1/w2)\n",
    "\n",
    "border_h = (h1 - h)//2\n",
    "border_w = (w1 - w)//2\n",
    "\n",
    "frame_img[border_h:border_h+h, border_w:border_w+w] = cv2.resize(img2, (w,h))\n",
    "\n",
    "beta = 1.0 - alpha\n",
    "blending_img = cv2.addWeighted(img1, alpha, frame_img, beta, 0.0)\n",
    "\n",
    "cv2.imshow('blending result', blending_img)\n",
    "cv2.imwrite('blending2 result.jpg',blending_img)\n",
    "print('gambar telah di save!')\n",
    "cv2.waitKey(0)\n",
    "cv2.destroyAllWindows()"
   ]
  },
  {
   "attachments": {},
   "cell_type": "markdown",
   "metadata": {},
   "source": [
    "#### Menggunakan Trackbar pada OpenCV\n",
    "\n",
    "- Blend input parameter $α$ menggunakan trackbar slider\n",
    "\n",
    "- Untuk menggunakan trackar slider, diperkenalkan beberapa metode berikut :\n",
    "    - `cv2.createTrackbar(label, window_name, default_value, max_value, on_change_function)`\n",
    "    - `label` : label pada trackbar\n",
    "    - `window_name` : window name yang digunakan trackbar dan image\n",
    "    - `default_value` : nilai awal yang diset pada trackbar\n",
    "    - `max_value` : nilai maximum yang diset pada trackbar\n",
    "    - `on_change_function` : funtion yang akan dipanggil ketika nilai pada trackbar berubah"
   ]
  },
  {
   "cell_type": "code",
   "execution_count": 28,
   "metadata": {},
   "outputs": [],
   "source": [
    "alpha_max = 100\n",
    "alpha_default = 50\n",
    "\n",
    "title_window = 'Image Blending'\n",
    "\n",
    "def trackbar(val):\n",
    "    alpha = val / alpha_max\n",
    "    beta = 1.0 - alpha\n",
    "    img_blend = cv2.addWeighted(img1, alpha, img2, beta, 0.0)\n",
    "    cv2.imshow(title_window, img_blend)\n",
    "\n",
    "img1 = cv2.imread('lena.jpg')\n",
    "img2 = cv2.imread('apple.jpg')\n",
    "\n",
    "cv2.namedWindow(title_window)\n",
    "cv2.createTrackbar('alpha', title_window, alpha_default, alpha_max, trackbar)\n",
    "\n",
    "trackbar(0)\n",
    "cv2.waitKey(0)\n",
    "cv2.destroyAllWindows()"
   ]
  },
  {
   "attachments": {},
   "cell_type": "markdown",
   "metadata": {},
   "source": [
    "#### Overlay Transparent Image \n",
    "\n",
    "- Contoh penerapan overlay transparent \n",
    "\n",
    "<img src=\"https://github.com/Muhammad-Yunus/Belajar-Computer-Vision/blob/master/08.%20OpenCV%20-%20Part%202/resource/draw%20opencv.jpg?raw=true\" style=\"width:500px;\"></img>"
   ]
  },
  {
   "cell_type": "code",
   "execution_count": 29,
   "metadata": {},
   "outputs": [],
   "source": [
    "alpha = float(input('masukan nilai alpha [0.0 - 1.0]: '))\n",
    "\n",
    "img = cv2.imread('Dicky.jpg')\n",
    "\n",
    "#* creat overlay matrix\n",
    "overlay = np.zeros((200, 300, 3)).astype(np.uint8)\n",
    "overlay[:,:,2] = 255 #* 'G' layer to 255 (color green)\n",
    "h, w, c = overlay.shape\n",
    "\n",
    "img_blend = cv2.addWeighted(img[10:10+h, 10:10+w], 1, overlay, alpha, 0.0)\n",
    "\n",
    "img[10:10+h, 10:10+w] = img_blend\n",
    "\n",
    "cv2.imshow('Overlay Image',img)\n",
    "cv2.waitKey(0)\n",
    "cv2.destroyAllWindows()"
   ]
  },
  {
   "cell_type": "code",
   "execution_count": 30,
   "metadata": {},
   "outputs": [
    {
     "data": {
      "text/plain": [
       "(400, 400, 3)"
      ]
     },
     "execution_count": 30,
     "metadata": {},
     "output_type": "execute_result"
    }
   ],
   "source": [
    "img.shape"
   ]
  },
  {
   "attachments": {},
   "cell_type": "markdown",
   "metadata": {},
   "source": [
    "### Image Color Conversion\n",
    "\n",
    "- Diperkenalkan method `cv2.cvtColor()` untuk color conversion pada OpenCV\n",
    "\n",
    "- Berikut adalah parameter convert color yang dapat digunakan :\n",
    "    - convert BGR <--> RGB \\\n",
    "    `cv2.COLOR_BGR2RGB` \\\n",
    "    `cv2.COLOR_RGB2BGR`\n",
    "\n",
    "    - convert BGR <--> HSV \\\n",
    "    `cv2.COLOR_BGR2HSV` \\\n",
    "    `cv2.COLOR_HSV2RGB`\n",
    "\n",
    "    - convert BGR <--> BGRA \\\n",
    "    `cv2.COLOR_BGR2BGRA` \\\n",
    "    `cv2.COLOR_BGRA2BGR`\n",
    "\n",
    "    - convert RGB <--> RGBA \\\n",
    "    `cv2.COLOR_RGB2BGRA` \\\n",
    "    `cv2.COLOR_RGBA2BGR`\n",
    "\n",
    "    - convert BGR <--> GRAY \\\n",
    "    `cv2.COLOR_BGR2GRAY` \\\n",
    "    `cv2.COLOR_GRAY2RGB`"
   ]
  },
  {
   "cell_type": "code",
   "execution_count": 31,
   "metadata": {},
   "outputs": [],
   "source": [
    "\n",
    "#* convert BGR to Gray\n",
    "img = cv2.imread('Dicky.jpg')\n",
    "\n",
    "img_gray = cv2.cvtColor(img, cv2.COLOR_BGR2GRAY)\n",
    "\n",
    "cv2.imshow('Original image', img)\n",
    "cv2.imshow('Grayscale image', img_gray)\n",
    "cv2.waitKey(0)\n",
    "cv2.destroyAllWindows()"
   ]
  },
  {
   "cell_type": "code",
   "execution_count": 32,
   "metadata": {},
   "outputs": [],
   "source": [
    "\n",
    "#* convert BGR to RGB\n",
    "img = cv2.imread('Dicky.jpg')\n",
    "\n",
    "img_RGB = cv2.cvtColor(img, cv2.COLOR_BGR2RGB)\n",
    "\n",
    "cv2.imshow('Original image', img)\n",
    "cv2.imshow('RGB image', img_RGB)\n",
    "cv2.waitKey(0)\n",
    "cv2.destroyAllWindows()"
   ]
  },
  {
   "cell_type": "code",
   "execution_count": 33,
   "metadata": {},
   "outputs": [],
   "source": [
    "\n",
    "#* convert BGR to BGRA\n",
    "img = cv2.imread('Dicky.jpg')\n",
    "\n",
    "img_BGRA = cv2.cvtColor(img, cv2.COLOR_BGR2BGRA)\n",
    "\n",
    "cv2.imshow('Original image', img)\n",
    "cv2.imshow('BGRA image', img_BGRA)\n",
    "cv2.waitKey(0)\n",
    "cv2.destroyAllWindows()"
   ]
  },
  {
   "cell_type": "code",
   "execution_count": 34,
   "metadata": {},
   "outputs": [
    {
     "data": {
      "text/plain": [
       "(400, 400, 3)"
      ]
     },
     "execution_count": 34,
     "metadata": {},
     "output_type": "execute_result"
    }
   ],
   "source": [
    "img.shape"
   ]
  },
  {
   "cell_type": "code",
   "execution_count": 35,
   "metadata": {},
   "outputs": [
    {
     "data": {
      "text/plain": [
       "(400, 400, 4)"
      ]
     },
     "execution_count": 35,
     "metadata": {},
     "output_type": "execute_result"
    }
   ],
   "source": [
    "img_BGRA.shape"
   ]
  },
  {
   "cell_type": "code",
   "execution_count": 36,
   "metadata": {},
   "outputs": [
    {
     "data": {
      "text/plain": [
       "array([175, 191, 197, 255], dtype=uint8)"
      ]
     },
     "execution_count": 36,
     "metadata": {},
     "output_type": "execute_result"
    }
   ],
   "source": [
    "img_BGRA[0,0] # B, G, R, A"
   ]
  },
  {
   "attachments": {},
   "cell_type": "markdown",
   "metadata": {},
   "source": [
    "- **A** pada **BGRA** merupakan transparency level (0-255)"
   ]
  },
  {
   "cell_type": "code",
   "execution_count": 37,
   "metadata": {},
   "outputs": [],
   "source": [
    "\n",
    "#* set layer 'A' menjadi 127 (transparency 50%) 127 == 1/2 dari 255\n",
    "img_BGRA[:,:,3] = 127"
   ]
  },
  {
   "cell_type": "code",
   "execution_count": 38,
   "metadata": {},
   "outputs": [
    {
     "data": {
      "text/plain": [
       "array([175, 191, 197, 127], dtype=uint8)"
      ]
     },
     "execution_count": 38,
     "metadata": {},
     "output_type": "execute_result"
    }
   ],
   "source": [
    "img_BGRA[0,0]"
   ]
  },
  {
   "cell_type": "code",
   "execution_count": 39,
   "metadata": {},
   "outputs": [],
   "source": [
    "cv2.imshow('Original image', img)\n",
    "cv2.imshow('BGRA image', img_BGRA)\n",
    "cv2.waitKey(0)\n",
    "cv2.destroyAllWindows()"
   ]
  },
  {
   "attachments": {},
   "cell_type": "markdown",
   "metadata": {},
   "source": [
    "- Saat di preview tidak terlihat perbedaanya,\n",
    "- Save untuk melihat hasil tranparency\n",
    "- Hanya bisa dilihat hasil tranparency nya dalam format (.png)"
   ]
  },
  {
   "cell_type": "code",
   "execution_count": 40,
   "metadata": {},
   "outputs": [
    {
     "data": {
      "text/plain": [
       "True"
      ]
     },
     "execution_count": 40,
     "metadata": {},
     "output_type": "execute_result"
    }
   ],
   "source": [
    "cv2.imwrite('Dicky Transparant.png',img_BGRA)"
   ]
  },
  {
   "cell_type": "code",
   "execution_count": 41,
   "metadata": {},
   "outputs": [
    {
     "data": {
      "text/plain": [
       "True"
      ]
     },
     "execution_count": 41,
     "metadata": {},
     "output_type": "execute_result"
    }
   ],
   "source": [
    "cv2.imwrite('Dicky Transparant.jpg',img_BGRA)"
   ]
  },
  {
   "attachments": {},
   "cell_type": "markdown",
   "metadata": {},
   "source": [
    "### Pekerjaan Rumah (PR)\n",
    "- Buatlah Overlay warna putih dengan **alpha input dari trackbar** dan **size overlay dari mouse event click**,\n",
    "\n",
    "<img src=\"https://github.com/Muhammad-Yunus/Belajar-Computer-Vision/blob/master/08.%20OpenCV%20-%20Part%202/resource/trackbar_and_overlay.gif?raw=true\" style=\"width:400px;\"></img>"
   ]
  },
  {
   "cell_type": "code",
   "execution_count": 1,
   "metadata": {},
   "outputs": [
    {
     "ename": "TypeError",
     "evalue": "int() argument must be a string, a bytes-like object or a real number, not 'NoneType'",
     "output_type": "error",
     "traceback": [
      "\u001b[1;31m---------------------------------------------------------------------------\u001b[0m",
      "\u001b[1;31mTypeError\u001b[0m                                 Traceback (most recent call last)",
      "Cell \u001b[1;32mIn[1], line 73\u001b[0m\n\u001b[0;32m     70\u001b[0m \u001b[39mif\u001b[39;00m is_tracker_on_change:\n\u001b[0;32m     71\u001b[0m     template \u001b[39m=\u001b[39m img\u001b[39m.\u001b[39mcopy()\n\u001b[1;32m---> 73\u001b[0m     template \u001b[39m=\u001b[39m create_overlay(template, last_y_start, last_x_start, last_y_end, last_x_end)\n\u001b[0;32m     74\u001b[0m     is_tracker_on_change \u001b[39m=\u001b[39m \u001b[39mFalse\u001b[39;00m\n\u001b[0;32m     76\u001b[0m cv2\u001b[39m.\u001b[39mimshow(windowName,template)\n",
      "Cell \u001b[1;32mIn[1], line 58\u001b[0m, in \u001b[0;36mcreate_overlay\u001b[1;34m(template, y0, x0, y1, x1)\u001b[0m\n\u001b[0;32m     54\u001b[0m overlay[:,:,:] \u001b[39m=\u001b[39m \u001b[39m255\u001b[39m \u001b[39m#* set 'BGR' layer to 255 (color white)\u001b[39;00m\n\u001b[0;32m     56\u001b[0m overlay_transparency \u001b[39m=\u001b[39m cv2\u001b[39m.\u001b[39maddWeighted(template[y0:y1, x0:x1], \u001b[39m1\u001b[39m, overlay, alpha, \u001b[39m0.0\u001b[39m)\n\u001b[1;32m---> 58\u001b[0m template[y0:y1, x0:x1] \u001b[39m=\u001b[39m overlay_transparency\n\u001b[0;32m     60\u001b[0m \u001b[39mreturn\u001b[39;00m template\n",
      "\u001b[1;31mTypeError\u001b[0m: int() argument must be a string, a bytes-like object or a real number, not 'NoneType'"
     ]
    }
   ],
   "source": [
    "\n",
    "#! --jawaban--\n",
    "import numpy as np\n",
    "import cv2\n",
    "\n",
    "img = cv2.imread('lena.jpg')\n",
    "h, w, c = img.shape\n",
    "\n",
    "windowName = 'Costume Overlay'\n",
    "is_tracker_on_change = False\n",
    "is_resize = False\n",
    "\n",
    "alpha_max = 100\n",
    "alpha_default = 50\n",
    "alpha = 0.5\n",
    "\n",
    "y_start, x_start, y_end, x_end = 0,0,0,0\n",
    "last_y_start, last_x_start, last_y_end, last_x_end = 0,0,0,0\n",
    "\n",
    "def resize_overlay(event,x,y,flags,param):\n",
    "\n",
    "    global y_start, x_start, y_end, x_end, is_resize\n",
    "\n",
    "    #* if the left mouse button clicked\n",
    "    if event == cv2.EVENT_LBUTTONDOWN:\n",
    "        x_start, y_start, x_end, y_end = x, y, x, y\n",
    "        is_resize = True\n",
    "\n",
    "    #* mouse is moving\n",
    "    elif event == cv2.EVENT_MOUSEMOVE:\n",
    "        x_end, y_end = x, y\n",
    "        #* the to max size background if x, y mouse larger than size background\n",
    "        if x_end > w:\n",
    "            x_end = w\n",
    "        if y_end > h:\n",
    "            y_end = h\n",
    "    \n",
    "    #* if the left mouse button was released\n",
    "    elif event == cv2.EVENT_LBUTTONUP:\n",
    "        x_end, y_end = x, y\n",
    "        is_resize = False\n",
    "\n",
    "cv2.namedWindow(windowName)\n",
    "cv2.setMouseCallback(windowName, resize_overlay)\n",
    "\n",
    "def trackbar(val):\n",
    "    global alpha, is_tracker_on_change\n",
    "    is_tracker_on_change = True\n",
    "    alpha = val / alpha_max\n",
    "\n",
    "cv2.createTrackbar('alpha', windowName, alpha_default, alpha_max, trackbar)\n",
    "\n",
    "def create_overlay(template, y0, x0, y1, x1):\n",
    "    overlay = np.zeros((y1-y0, x1-x0, 3)).astype(np.uint8)\n",
    "    overlay[:,:,:] = 255 #* set 'BGR' layer to 255 (color white)\n",
    "\n",
    "    overlay_transparency = cv2.addWeighted(template[y0:y1, x0:x1], 1, overlay, alpha, 0.0)\n",
    "\n",
    "    template[y0:y1, x0:x1] = overlay_transparency\n",
    "\n",
    "    return template\n",
    "\n",
    "template = img.copy()\n",
    "while True:\n",
    "\n",
    "    if is_resize:\n",
    "        template = img.copy()\n",
    "        template = create_overlay(template, y_start, x_start, y_end, x_end)\n",
    "        last_y_start, last_x_start, last_y_end, last_x_end = y_start, x_start, y_end, x_end\n",
    "\n",
    "    if is_tracker_on_change:\n",
    "        template = img.copy()\n",
    "\n",
    "        template = create_overlay(template, last_y_start, last_x_start, last_y_end, last_x_end)\n",
    "        is_tracker_on_change = False\n",
    "\n",
    "    cv2.imshow(windowName,template)\n",
    "    if cv2.waitKey(1) == ord('q'):\n",
    "        break\n",
    "\n",
    "\n",
    "cv2.destroyAllWindows()\n"
   ]
  },
  {
   "cell_type": "code",
   "execution_count": 2,
   "metadata": {},
   "outputs": [
    {
     "ename": "TypeError",
     "evalue": "int() argument must be a string, a bytes-like object or a real number, not 'NoneType'",
     "output_type": "error",
     "traceback": [
      "\u001b[1;31m---------------------------------------------------------------------------\u001b[0m",
      "\u001b[1;31mTypeError\u001b[0m                                 Traceback (most recent call last)",
      "Cell \u001b[1;32mIn[2], line 74\u001b[0m\n\u001b[0;32m     71\u001b[0m \u001b[39mif\u001b[39;00m is_trackbar_on_change :\n\u001b[0;32m     72\u001b[0m     template \u001b[39m=\u001b[39m image\u001b[39m.\u001b[39mcopy()\n\u001b[1;32m---> 74\u001b[0m     template \u001b[39m=\u001b[39m create_overlay(template, last_y_start, last_x_start, last_y_end, last_x_end)\n\u001b[0;32m     76\u001b[0m     is_trackbar_on_change \u001b[39m=\u001b[39m \u001b[39mFalse\u001b[39;00m\n\u001b[0;32m     78\u001b[0m cv2\u001b[39m.\u001b[39mimshow(windowName, template)\n",
      "Cell \u001b[1;32mIn[2], line 57\u001b[0m, in \u001b[0;36mcreate_overlay\u001b[1;34m(template, y0, x0, y1, x1)\u001b[0m\n\u001b[0;32m     53\u001b[0m overlay[:,:,:] \u001b[39m=\u001b[39m \u001b[39m255\u001b[39m \u001b[39m# set `BGR` layer to 255 (color white)\u001b[39;00m\n\u001b[0;32m     55\u001b[0m overlay_transparency \u001b[39m=\u001b[39m cv2\u001b[39m.\u001b[39maddWeighted(template[y0:y1, x0:x1], \u001b[39m1\u001b[39m, overlay, alpha, \u001b[39m0.0\u001b[39m)\n\u001b[1;32m---> 57\u001b[0m template[y0:y1, x0:x1] \u001b[39m=\u001b[39m overlay_transparency\n\u001b[0;32m     59\u001b[0m \u001b[39mreturn\u001b[39;00m template\n",
      "\u001b[1;31mTypeError\u001b[0m: int() argument must be a string, a bytes-like object or a real number, not 'NoneType'"
     ]
    },
    {
     "ename": "",
     "evalue": "",
     "output_type": "error",
     "traceback": [
      "\u001b[1;31mThe Kernel crashed while executing code in the the current cell or a previous cell. Please review the code in the cell(s) to identify a possible cause of the failure. Click <a href='https://aka.ms/vscodeJupyterKernelCrash'>here</a> for more info. View Jupyter <a href='command:jupyter.viewOutput'>log</a> for further details."
     ]
    }
   ],
   "source": [
    "import numpy as np\n",
    "import cv2\n",
    "\n",
    "windowName = \"Custom Overlay\"\n",
    "is_resize = False\n",
    "is_trackbar_on_change = False\n",
    "\n",
    "alpha_max_value = 100\n",
    "alpha_default_value = 50\n",
    "alpha = 0.5\n",
    "\n",
    "image = cv2.imread('lena.jpg')\n",
    "h, w, c = image.shape\n",
    "\n",
    "y_start, x_start, y_end, x_end = 0, 0, 0, 0\n",
    "last_y_start, last_x_start, last_y_end, last_x_end = 0, 0, 0, 0\n",
    "\n",
    "def resize_overlay(event,x,y,flags,param):\n",
    "    \n",
    "    global y_start, x_start, y_end, x_end, is_resize\n",
    "    \n",
    "    # if the left mouse button clicked\n",
    "    if event == cv2.EVENT_LBUTTONDOWN:\n",
    "        x_start, y_start, x_end, y_end = x, y, x, y\n",
    "        is_resize = True\n",
    "\n",
    "    # Mouse is Moving\n",
    "    elif event == cv2.EVENT_MOUSEMOVE:\n",
    "        x_end, y_end = x, y\n",
    "        # set to max size background if x, y mouse larger than size background         \n",
    "        if x_end > w :\n",
    "            x_end = w\n",
    "        if y_end > h :\n",
    "            y_end = h\n",
    "\n",
    "    # if the left mouse button was released\n",
    "    elif event == cv2.EVENT_LBUTTONUP:\n",
    "        x_end, y_end = x, y\n",
    "        is_resize = False\n",
    "        \n",
    "cv2.namedWindow(windowName)\n",
    "cv2.setMouseCallback(windowName, resize_overlay) \n",
    "\n",
    "def on_trackbar(val):\n",
    "    global alpha, is_trackbar_on_change\n",
    "    is_trackbar_on_change = True\n",
    "    alpha = val / alpha_max_value\n",
    "    \n",
    "cv2.createTrackbar('alpha', windowName , alpha_default_value, alpha_max_value, on_trackbar)\n",
    "\n",
    "def create_overlay(template, y0, x0, y1, x1):\n",
    "    overlay = np.zeros((y1 - y0, x1 - x0, 3)).astype(np.uint8)\n",
    "    overlay[:,:,:] = 255 # set `BGR` layer to 255 (color white)\n",
    "\n",
    "    overlay_transparency = cv2.addWeighted(template[y0:y1, x0:x1], 1, overlay, alpha, 0.0)\n",
    "\n",
    "    template[y0:y1, x0:x1] = overlay_transparency\n",
    "\n",
    "    return template\n",
    "    \n",
    "template = image.copy()\n",
    "while True:\n",
    "    \n",
    "    if is_resize:\n",
    "        template = image.copy()\n",
    "        \n",
    "        template = create_overlay(template, y_start, x_start, y_end, x_end)\n",
    "        \n",
    "        last_y_start, last_x_start, last_y_end, last_x_end = y_start, x_start, y_end, x_end\n",
    "        \n",
    "    if is_trackbar_on_change :\n",
    "        template = image.copy()\n",
    "        \n",
    "        template = create_overlay(template, last_y_start, last_x_start, last_y_end, last_x_end)\n",
    "        \n",
    "        is_trackbar_on_change = False\n",
    "        \n",
    "    cv2.imshow(windowName, template)\n",
    "    if cv2.waitKey(1) == ord('q') :\n",
    "        break\n",
    "\n",
    "cv2.destroyAllWindows()\n"
   ]
  },
  {
   "cell_type": "code",
   "execution_count": 6,
   "metadata": {},
   "outputs": [
    {
     "ename": "NameError",
     "evalue": "name 'y0' is not defined",
     "output_type": "error",
     "traceback": [
      "\u001b[1;31m---------------------------------------------------------------------------\u001b[0m",
      "\u001b[1;31mNameError\u001b[0m                                 Traceback (most recent call last)",
      "Cell \u001b[1;32mIn[6], line 1\u001b[0m\n\u001b[1;32m----> 1\u001b[0m template[y0:y1, x0:x1]\u001b[39m.\u001b[39mshape\n",
      "\u001b[1;31mNameError\u001b[0m: name 'y0' is not defined"
     ]
    }
   ],
   "source": [
    "template[y0:y1, x0:x1].shape"
   ]
  },
  {
   "cell_type": "code",
   "execution_count": null,
   "metadata": {},
   "outputs": [],
   "source": []
  }
 ],
 "metadata": {
  "kernelspec": {
   "display_name": "Python 3",
   "language": "python",
   "name": "python3"
  },
  "language_info": {
   "codemirror_mode": {
    "name": "ipython",
    "version": 3
   },
   "file_extension": ".py",
   "mimetype": "text/x-python",
   "name": "python",
   "nbconvert_exporter": "python",
   "pygments_lexer": "ipython3",
   "version": "3.10.9"
  },
  "orig_nbformat": 4
 },
 "nbformat": 4,
 "nbformat_minor": 2
}
