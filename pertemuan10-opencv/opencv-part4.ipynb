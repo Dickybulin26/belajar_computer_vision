{
 "cells": [
  {
   "attachments": {},
   "cell_type": "markdown",
   "metadata": {},
   "source": [
    "# **BELAJAR COMPUTER VISION - OpenCV Part 4**"
   ]
  },
  {
   "attachments": {},
   "cell_type": "markdown",
   "metadata": {},
   "source": [
    "- OpenCV Drawing Tool\n",
    "- Contour Detection\n",
    "- Draw Contour"
   ]
  },
  {
   "cell_type": "code",
   "execution_count": 20,
   "metadata": {},
   "outputs": [
    {
     "data": {
      "text/plain": [
       "['e:\\\\BELAJAR-PEMROGRAMAN\\\\Dicky_X_RPL_B\\\\CODING\\\\belajar_computer_vision\\\\belajar_computer_vision\\\\pertemuan10-opencv',\n",
       " 'c:\\\\Users\\\\Dicky\\\\AppData\\\\Local\\\\Programs\\\\Python\\\\Python310\\\\python310.zip',\n",
       " 'c:\\\\Users\\\\Dicky\\\\AppData\\\\Local\\\\Programs\\\\Python\\\\Python310\\\\DLLs',\n",
       " 'c:\\\\Users\\\\Dicky\\\\AppData\\\\Local\\\\Programs\\\\Python\\\\Python310\\\\lib',\n",
       " 'c:\\\\Users\\\\Dicky\\\\AppData\\\\Local\\\\Programs\\\\Python\\\\Python310',\n",
       " '',\n",
       " 'C:\\\\Users\\\\Dicky\\\\AppData\\\\Roaming\\\\Python\\\\Python310\\\\site-packages',\n",
       " 'C:\\\\Users\\\\Dicky\\\\AppData\\\\Roaming\\\\Python\\\\Python310\\\\site-packages\\\\win32',\n",
       " 'C:\\\\Users\\\\Dicky\\\\AppData\\\\Roaming\\\\Python\\\\Python310\\\\site-packages\\\\win32\\\\lib',\n",
       " 'C:\\\\Users\\\\Dicky\\\\AppData\\\\Roaming\\\\Python\\\\Python310\\\\site-packages\\\\Pythonwin',\n",
       " 'c:\\\\Users\\\\Dicky\\\\AppData\\\\Local\\\\Programs\\\\Python\\\\Python310\\\\lib\\\\site-packages']"
      ]
     },
     "execution_count": 20,
     "metadata": {},
     "output_type": "execute_result"
    }
   ],
   "source": [
    "%matplotlib inline\n",
    "import cv2\n",
    "import numpy as np\n",
    "import sys\n",
    "import matplotlib.pyplot as plt\n",
    "import os\n",
    "import math\n",
    "\n",
    "sys.path"
   ]
  },
  {
   "attachments": {},
   "cell_type": "markdown",
   "metadata": {},
   "source": [
    "## OpenCV Drawing Tool\n",
    "\n",
    "- Draw a **line** by using the OpenCV function `cv2.line()`\n",
    "- Draw an **ellipse** by using the OpenCV function `cv2.ellipse()`\n",
    "- Draw a **rectangle** by using the OpenCV function `cv2.rectangle()`\n",
    "- Draw a **circle** by using the OpenCV function `cv2.circle()`\n",
    "- Draw a **filled polygon** by using the OpenCV function `cv2.fillPoly()`\n",
    "- Write a **text** by using the OpenCV function `cv2.putText()`"
   ]
  },
  {
   "attachments": {},
   "cell_type": "markdown",
   "metadata": {},
   "source": [
    "#### Draw Line (`cv2.line()`)\n",
    "\n",
    "- Menggunakan method `cv2.line(img, (x0,y0), (xt,yt), (B, G, R), thickness, line_type)` \n",
    "- untuk :\n",
    "    - `img` : input image\n",
    "    - `(x0, y0)` : start point (tuple)\n",
    "    - `(xt, yt)` : end point (tuple)\n",
    "    - `(B, G, R)` : line color (tuple)\n",
    "    - `thickness` : line thickness \n",
    "    - `line_type` :\n",
    "        - `cv2.FILLED` : filled line\n",
    "        - `cv2.LINE_4` : 4-connected line\n",
    "        - `cv2.LINE_8` : 8-connected line\n",
    "        - `cv2.LINE_AA` : antialiased line"
   ]
  },
  {
   "cell_type": "code",
   "execution_count": 2,
   "metadata": {},
   "outputs": [],
   "source": [
    "background = np.zeros((400, 400, 3)).astype(np.uint8)\n",
    "\n",
    "#* horizontal line (red), y0 = yt\n",
    "cv2.line(background, (100, 350), (300, 350), (50,0,255),3,cv2.FILLED)\n",
    "\n",
    "#* vertical line (green), x0, = xt\n",
    "cv2.line(background, (50, 100), (50, 300), (25,255,0),9,cv2.LINE_8)\n",
    "\n",
    "#* garis miring line (pink)\n",
    "cv2.line(background, (250, 300), (230, 100), (255,0,255),5,cv2.LINE_4)\n",
    "\n",
    "#* garis miring line (tosca)\n",
    "cv2.line(background, (300, 300), (280, 100), (100,127,0),5,cv2.LINE_AA)\n",
    "\n",
    "cv2.imshow(\"background\", background)\n",
    "cv2.waitKey(0)\n",
    "cv2.destroyAllWindows()"
   ]
  },
  {
   "attachments": {},
   "cell_type": "markdown",
   "metadata": {},
   "source": [
    "#### Draw Rectangle (`cv2.rectangle()`)\n",
    "\n",
    "\n",
    "- Menggunakan method `cv2.rectangle(img, (x0,y0), (xt,yt), (B, G, R), thickness, line_type)` \n",
    "- untuk :\n",
    "    - `img` : input image\n",
    "    - `(x0, y0)` : top-left-corner rectangle point (tuple)\n",
    "    - `(xt, yt)` : bottom-right-corner rectangle point (tuple)\n",
    "    - `(B, G, R)` : rectangle color (tuple)\n",
    "    - `thickness` : rectangle thickness (if negative, color will be user as fillcolor)\n",
    "    - `line_type` :\n",
    "        - `cv2.FILLED` : filled line\n",
    "        - `cv2.LINE_4` : 4-connected line\n",
    "        - `cv2.LINE_8` : 8-connected line\n",
    "        - `cv2.LINE_AA` : antialiased line"
   ]
  },
  {
   "cell_type": "code",
   "execution_count": 3,
   "metadata": {},
   "outputs": [],
   "source": [
    "background = np.zeros((400, 400, 3)).astype(np.uint8)\n",
    "\n",
    "#* outline color\n",
    "cv2.rectangle(background, (15, 25), (200,150), (0,0,255), 5)\n",
    "\n",
    "#* fill color\n",
    "cv2.rectangle(background, (210, 50), (270,270), (0,200,255), -1)\n",
    "\n",
    "cv2.imshow('background', background)\n",
    "cv2.waitKey(0)\n",
    "cv2.destroyAllWindows()"
   ]
  },
  {
   "attachments": {},
   "cell_type": "markdown",
   "metadata": {},
   "source": [
    "#### Draw Circle (`cv2.circle()`)\n",
    "\n",
    "\n",
    "- Menggunakan method `cv2.circle(img, (x,y), radius, (B, G, R), thickness, line_type)` \n",
    "- untuk :\n",
    "    - `img` : input image\n",
    "    - `(x, y)` : circle center point (tuple)\n",
    "    - `radius` : circle radius (in pixel)\n",
    "    - `(B, G, R)` : circle color (tuple)\n",
    "    - `thickness` : circle thickness  (if negative, color will be user as fillcolor)\n",
    "    - `line_type` :\n",
    "        - `cv2.FILLED` : filled line\n",
    "        - `cv2.LINE_4` : 4-connected line\n",
    "        - `cv2.LINE_8` : 8-connected line\n",
    "        - `cv2.LINE_AA` : antialiased line"
   ]
  },
  {
   "cell_type": "code",
   "execution_count": 7,
   "metadata": {},
   "outputs": [],
   "source": [
    "img = cv2.imread('lena.jpg')\n",
    "\n",
    "#* circle outline\n",
    "cv2.circle(img,(65,65),55,(0,255,150),2,cv2.LINE_AA)\n",
    "\n",
    "#* circle fil\n",
    "cv2.circle(img,(65,250),55,(0,50,250),-1,cv2.LINE_AA)\n",
    "\n",
    "\n",
    "cv2.imshow('lena.jpg',img)\n",
    "cv2.waitKey(0)\n",
    "cv2.destroyAllWindows()"
   ]
  },
  {
   "attachments": {},
   "cell_type": "markdown",
   "metadata": {},
   "source": [
    "#### Write Text (`cv2.putText()`)\n",
    "\n",
    "\n",
    "- Menggunakan method `cv2.putText(img, text, (x,y), font_type, font_scale, (B, G, R), thickness, line_type)` \n",
    "- untuk :\n",
    "    - `img` : input image\n",
    "    - `text` : string to write in image \n",
    "    - `(x, y)` : start-left position of text (tuple)\n",
    "    - `font_type` : \n",
    "        - `cv2.FONT_HERSHEY_SIMPLEX` : size sans-serif font\n",
    "        - `cv2.FONT_HERSHEY_PLAIN` : small size sans-serif font\n",
    "        - `cv2.FONT_HERSHEY_DUPLEX` : normal size sans-serif font (more complex than FONT_HERSHEY_SIMPLEX)\n",
    "        - `cv2.FONT_HERSHEY_COMPLEX` : normal size serif font\n",
    "        - `cv2.FONT_HERSHEY_TRIPLEX` : normal size serif font (more complex than FONT_HERSHEY_COMPLEX)\n",
    "        - `cv2.FONT_HERSHEY_COMPLEX_SMALL` : smaller version of FONT_HERSHEY_COMPLEX\n",
    "        - `cv2.FONT_HERSHEY_SCRIPT_SIMPLEX` : hand-writing style font\n",
    "        - `cv2.FONT_HERSHEY_SCRIPT_COMPLEX` : more complex variant of FONT_HERSHEY_SCRIPT_SIMPLEX\n",
    "        - `cv2.FONT_ITALIC` : flag for italic font\n",
    "    - `(B, G, R)` : circle color (tuple)\n",
    "    - `thickness` : circle thickness  (if negative, color will be user as fillcolor)\n",
    "    - `line_type` :\n",
    "        - `cv2.FILLED` : filled line\n",
    "        - `cv2.LINE_4` : 4-connected line\n",
    "        - `cv2.LINE_8` : 8-connected line\n",
    "        - `cv2.LINE_AA` : antialiased line"
   ]
  },
  {
   "cell_type": "code",
   "execution_count": 8,
   "metadata": {},
   "outputs": [
    {
     "name": "stdout",
     "output_type": "stream",
     "text": [
      "[(1, 'A'), (2, 'B'), (3, 'C'), (4, 'D')]\n"
     ]
    }
   ],
   "source": [
    "A = [1,2,3,4]\n",
    "B = ['A', 'B','C','D']\n",
    "\n",
    "C = zip(A, B)\n",
    "print(list(C))"
   ]
  },
  {
   "cell_type": "code",
   "execution_count": 10,
   "metadata": {},
   "outputs": [],
   "source": [
    "background = np.zeros((200, 600, 3)).astype(np.uint8)\n",
    "h, w, c = background.shape\n",
    "\n",
    "font_types = [\n",
    "    cv2.FONT_HERSHEY_SIMPLEX,\n",
    "    cv2.FONT_HERSHEY_PLAIN,\n",
    "    cv2.FONT_HERSHEY_DUPLEX,   \n",
    "    cv2.FONT_HERSHEY_COMPLEX,\n",
    "    cv2.FONT_HERSHEY_TRIPLEX,\n",
    "    cv2.FONT_HERSHEY_COMPLEX_SMALL,\n",
    "    cv2.FONT_HERSHEY_SCRIPT_SIMPLEX,\n",
    "    cv2.FONT_HERSHEY_SCRIPT_COMPLEX,\n",
    "    cv2.FONT_ITALIC\n",
    "]\n",
    "\n",
    "texts = [\n",
    "    'FONT HERSHEY SIMPLEX',\n",
    "    'FONT HERSHEY PLAIN',\n",
    "    'FONT HERSHEY DUPLEX',\n",
    "    'FONT HERSHEY COMPLEX',\n",
    "    'FONT HERSHEY TRIPLEX',\n",
    "    'FONT HERSHEY COMPLEX SMALL',\n",
    "    'FONT HERSHEY SCRIPT SIMPLEX',\n",
    "    'FONT HERSHEY SCRIPT COMPLEX'\n",
    "    'FONT ITALIC'\n",
    "]\n",
    "\n",
    "for text, font_type in zip(texts, font_types):\n",
    "    frame = background.copy()\n",
    "    cv2.putText(frame, text,(50,50),font_type,0.9,(0,255,127),1,cv2.LINE_AA)\n",
    "    cv2.imshow('Text',frame)\n",
    "    cv2.waitKey(1000)\n",
    "\n",
    "cv2.destroyAllWindows()"
   ]
  },
  {
   "attachments": {},
   "cell_type": "markdown",
   "metadata": {},
   "source": [
    "- Mouse Event Click untuk draw line"
   ]
  },
  {
   "cell_type": "code",
   "execution_count": 19,
   "metadata": {},
   "outputs": [],
   "source": [
    "x0,y0,xt,yt = 0,0,0,0\n",
    "\n",
    "title_window = 'draw line'\n",
    "is_draw = False\n",
    "frame = np.ones((400,400,3)).astype(np.uint8)*255\n",
    "\n",
    "def draw_line(x0, y0, xt, yt):\n",
    "    background = frame.copy()\n",
    "    cv2.line(background, (x0, y0),(xt,yt), (255,0,255), 15, cv2.LINE_AA)\n",
    "    cv2.imshow(title_window,background)\n",
    "\n",
    "def read_line(event,x,y,flags,param):\n",
    "    global is_draw , x0, y0, xt, yt\n",
    "\n",
    "    if event == cv2.EVENT_LBUTTONDOWN:\n",
    "        x0, y0, xt, yt =  x,y,x,y\n",
    "        is_draw = True\n",
    "\n",
    "    elif event == cv2.EVENT_MOUSEMOVE:\n",
    "        xt,yt = x,y\n",
    "\n",
    "    elif event == cv2.EVENT_LBUTTONUP:\n",
    "        xt, yt = x,y\n",
    "        is_draw = False\n",
    "        \n",
    "    if is_draw:\n",
    "        draw_line(x0, y0,xt,yt)\n",
    "\n",
    "cv2.namedWindow(title_window)\n",
    "cv2.setMouseCallback(title_window, read_line)\n",
    "draw_line(x0, y0,xt,yt)\n",
    "cv2.waitKey(0)\n",
    "cv2.destroyAllWindows()"
   ]
  },
  {
   "cell_type": "code",
   "execution_count": 16,
   "metadata": {},
   "outputs": [],
   "source": [
    "cv2.destroyAllWindows()"
   ]
  },
  {
   "attachments": {},
   "cell_type": "markdown",
   "metadata": {},
   "source": [
    "- Mouse Event Click dan Trackbar untuk draw circle\n",
    "\n",
    "hitung radius circle dengan menggunakan, \n",
    "\n",
    "$r = \\sqrt{(x - x0)^{2} + (y - y0)^{2}} $ \n",
    "\n",
    "untuk $x0$ dan $y0$ merupakan pusat lingkaran."
   ]
  },
  {
   "cell_type": "code",
   "execution_count": 21,
   "metadata": {},
   "outputs": [],
   "source": [
    "x0, y0, r = 0,0,0\n",
    "\n",
    "title_window = 'Draw Circle'\n",
    "is_draw = False\n",
    "frmae = np.ones((400, 400, 3)).astype(np.uint8)*255\n",
    "\n",
    "def draw_circle(x0,y0,r):\n",
    "    background = frame.copy()\n",
    "    cv2.circle(background, (x0,y0), r, (0,255,150), 2, cv2.LINE_AA)\n",
    "    cv2.imshow(title_window, background)\n",
    "\n",
    "def read_circle(event, x,y,flags,param):\n",
    "\n",
    "    global x0, y0, r, is_draw\n",
    "\n",
    "    if event == cv2.EVENT_LBUTTONDOWN:\n",
    "        x0,y0  = x,y\n",
    "        is_draw = True\n",
    "\n",
    "    elif event == cv2.EVENT_MOUSEMOVE:\n",
    "        r = int(math.sqrt((x - x0)**2 + (y - y0)**2))\n",
    "\n",
    "    elif event == cv2.EVENT_LBUTTONUP:\n",
    "        r = int(math.sqrt((x - x0)**2 + (y - y0)**2))\n",
    "        is_draw = False\n",
    "\n",
    "    if is_draw:\n",
    "        draw_circle(x0,y0,r)\n",
    "\n",
    "cv2.namedWindow(title_window)\n",
    "cv2.setMouseCallback(title_window, read_circle)\n",
    "\n",
    "draw_circle(x0, y0, r)\n",
    "cv2.waitKey(0)\n",
    "cv2.destroyAllWindows()"
   ]
  },
  {
   "attachments": {},
   "cell_type": "markdown",
   "metadata": {},
   "source": [
    "#### Task\n",
    "- Mouse Event Click untuk draw rectangle"
   ]
  },
  {
   "cell_type": "code",
   "execution_count": 22,
   "metadata": {},
   "outputs": [],
   "source": [
    "x0, y0, xt, yt = 0,0,0,0\n",
    "\n",
    "title_window = 'Draw Rectangle'\n",
    "is_draw = False\n",
    "frmae = np.ones((400, 400, 3)).astype(np.uint8)*255\n",
    "\n",
    "def draw_rectangle(x0,y0,xt,yt):\n",
    "    background = frame.copy()\n",
    "    cv2.rectangle(background, (x0,y0), (xt, yt), (0,200,255), -1, cv2.LINE_AA)\n",
    "    cv2.imshow(title_window, background)\n",
    "\n",
    "def read_rectangle(event, x,y,flags,param):\n",
    "\n",
    "    global x0, y0, xt, yt, is_draw\n",
    "\n",
    "    if event == cv2.EVENT_LBUTTONDOWN:\n",
    "        x0,y0,xt,yt  = x,y,x,y\n",
    "        is_draw = True\n",
    "\n",
    "    elif event == cv2.EVENT_MOUSEMOVE:\n",
    "        xt, yt = x,y\n",
    "\n",
    "    elif event == cv2.EVENT_LBUTTONUP:\n",
    "        xt, yt = x,y\n",
    "        is_draw = False\n",
    "\n",
    "    if is_draw:\n",
    "        draw_rectangle(x0,y0,xt,yt)\n",
    "\n",
    "cv2.namedWindow(title_window)\n",
    "cv2.setMouseCallback(title_window, read_rectangle)\n",
    "\n",
    "draw_rectangle(x0, y0, xt, yt)\n",
    "cv2.waitKey(0)\n",
    "cv2.destroyAllWindows()"
   ]
  },
  {
   "cell_type": "code",
   "execution_count": 23,
   "metadata": {},
   "outputs": [],
   "source": [
    "cv2.destroyAllWindows()"
   ]
  },
  {
   "attachments": {},
   "cell_type": "markdown",
   "metadata": {},
   "source": [
    "## Contour Detection & Contour Drawing \n",
    "\n",
    "- Menggunakan method `cv2.findContour(img, mode, method)`\n",
    "- dimana :\n",
    "    - `img` : input image\n",
    "    - `mode` :\n",
    "        - `cv2.CHAIN_APPROX_NONE` : all the boundary points are stored\n",
    "        - `cv2.CHAIN_APPROX_SIMPLE` : only end points / corner of that shape are stored <br>\n",
    "        <img src=\"https://github.com/Muhammad-Yunus/Belajar-Computer-Vision/blob/master/10.%20OpenCV%20-%20Part%204/resource/mode_find_contour.png?raw=true\" style=\"width:300px; margin-top:10px\"></img>\n",
    "        - `with cv2.CHAIN_APPROX_NONE` (734 points) \n",
    "        - second image shows the one with `cv2.CHAIN_APPROX_SIMPLE` (only 4 points)\n",
    "    - `method` : \n",
    "        - `cv2.RETR_EXTERNAL`  : retrieves only the **extreme outer contours**.  It sets all contours to `hierarchy[i][2] = hierarchy[i][3] = -1`.\n",
    "        - `cv2.RETR_LIST`   : retrieves **all of the contours** without establishing any hierarchical relationships. \n",
    "        - `cv2.RETR_CCOMP`  : retrieves **all of the contours** and organizes them into a **two-level hierarchy**.  \n",
    "        - `cv2.RETR_TREE`   : retrieves **all of the contours** and reconstructs a **full hierarchy** of nested contours. \n",
    "        \n",
    "- Output : \n",
    "    - `contours` : list of countour location (x,y) : <br>\n",
    "    <img src=\"https://github.com/Muhammad-Yunus/Belajar-Computer-Vision/blob/master/10.%20OpenCV%20-%20Part%204/resource/hierarchy_moves.gif?raw=true\" style=\"width:400px; margin-top:10px\"></img>\n",
    "    \n",
    "    - `hierarchy` : list of `[Next, Previous, First_Child, Parent]`, <br> Representation of this relationship when some shapes are inside other shapes, we call outer one as **parent** and inner one as **child**. \n",
    "        - `Next` : next contour at the same hierarchical level.\n",
    "        - `Previous` : previous contour at the same hierarchical level.\n",
    "        - `First_Child` : first child contour.\n",
    "        - `Parent` : index of its parent contour. <br>\n",
    "        > *If there is no **child** or **parent**, that field is taken as -1*\n",
    "        - Example :<br>\n",
    "            <img src=\"https://github.com/Muhammad-Yunus/Belajar-Computer-Vision/blob/master/10.%20OpenCV%20-%20Part%204/resource/hierarchy.png?raw=true\" style=\"width:400px; margin-top:10px\"></img>\n",
    "            - `Next` & `Previous` :\n",
    "                - Start from contour-0. Who is next contour in its same level ? It is contour-1. \n",
    "                - So simply put Next = 1. Similarly for Contour-1, next is contour-2. So Next = 2. \n",
    "                - What about contour-2? There is no next contour in the same level. \n",
    "                - So simply, put Next = -1. \n",
    "                - What about contour-4? It is in same level with contour-5. \n",
    "                - So its next contour is contour-5, so Next = 5.\n",
    "            - `First_Child` & `Parent` :\n",
    "                - For contour-2, child is contour-2a. \n",
    "                - So it gets the corresponding index value of contour-2a. \n",
    "                - What about contour-3a? It has two children. \n",
    "                - But we take only first child. And it is contour-4. So First_Child = 4 for contour-3a."
   ]
  },
  {
   "attachments": {},
   "cell_type": "markdown",
   "metadata": {},
   "source": [
    "#### Method `cv2.RETR_EXTERNAL`\n",
    "- retrieves only the extreme outer contours. It sets all contours to hierarchy[i][2] = hierarchy[i][3] = -1."
   ]
  },
  {
   "cell_type": "code",
   "execution_count": 24,
   "metadata": {},
   "outputs": [],
   "source": [
    "img = cv2.imread('hierarchy2.png')\n",
    "gray = cv2.cvtColor(img, cv2.COLOR_BGR2GRAY)\n",
    "\n",
    "ret, thres = cv2.threshold(gray,127,255,cv2.THRESH_BINARY)\n",
    "\n",
    "contours, hierarchy = cv2.findContours(thres, cv2.RETR_EXTERNAL, cv2.CHAIN_APPROX_SIMPLE)"
   ]
  },
  {
   "cell_type": "code",
   "execution_count": 25,
   "metadata": {},
   "outputs": [
    {
     "data": {
      "text/plain": [
       "array([[[ 1, -1, -1, -1],\n",
       "        [ 2,  0, -1, -1],\n",
       "        [-1,  1, -1, -1]]], dtype=int32)"
      ]
     },
     "execution_count": 25,
     "metadata": {},
     "output_type": "execute_result"
    }
   ],
   "source": [
    "hierarchy "
   ]
  },
  {
   "attachments": {},
   "cell_type": "markdown",
   "metadata": {},
   "source": [
    "### Draw Contour `cv2.drawContour()`\n",
    "\n",
    "- menggunakan method `cv2.drawContours(img, contour, contour_index, (B,G,R), thickness)`\n",
    "- dimana :\n",
    "    - `img` : input image\n",
    "    - `contour` : contour location (list)\n",
    "    - `contour_index` : parameter indicating a contour to draw. If it is negative, all the contours are drawn.\n",
    "    - `(B,G,R)` : contour color\n",
    "    - `thickness` : contour thickness"
   ]
  },
  {
   "cell_type": "code",
   "execution_count": null,
   "metadata": {},
   "outputs": [],
   "source": []
  }
 ],
 "metadata": {
  "kernelspec": {
   "display_name": "Python 3",
   "language": "python",
   "name": "python3"
  },
  "language_info": {
   "codemirror_mode": {
    "name": "ipython",
    "version": 3
   },
   "file_extension": ".py",
   "mimetype": "text/x-python",
   "name": "python",
   "nbconvert_exporter": "python",
   "pygments_lexer": "ipython3",
   "version": "3.10.9"
  },
  "orig_nbformat": 4
 },
 "nbformat": 4,
 "nbformat_minor": 2
}
