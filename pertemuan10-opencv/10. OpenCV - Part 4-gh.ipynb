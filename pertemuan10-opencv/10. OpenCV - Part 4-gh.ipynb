{
 "cells": [
  {
   "cell_type": "markdown",
   "metadata": {},
   "source": [
    "# OpenCV - Part 4\n",
    "\n",
    "- OpenCV Drawing Tool \n",
    "- Contour Detection \n",
    "- Draw Contour"
   ]
  },
  {
   "cell_type": "code",
   "execution_count": 1,
   "metadata": {},
   "outputs": [],
   "source": [
    "import cv2\n",
    "import numpy as np"
   ]
  },
  {
   "cell_type": "markdown",
   "metadata": {},
   "source": [
    "## OpenCV Drawing Tool\n",
    "\n",
    "- Draw a **line** by using the OpenCV function `cv2.line()`\n",
    "- Draw an **ellipse** by using the OpenCV function `cv2.ellipse()`\n",
    "- Draw a **rectangle** by using the OpenCV function `cv2.rectangle()`\n",
    "- Draw a **circle** by using the OpenCV function `cv2.circle()`\n",
    "- Draw a **filled polygon** by using the OpenCV function `cv2.fillPoly()`\n",
    "- Write a **text** by using the OpenCV function `cv2.putText()`"
   ]
  },
  {
   "cell_type": "markdown",
   "metadata": {},
   "source": [
    "#### Draw Line (`cv2.line()`)\n",
    "\n",
    "- Menggunakan method `cv2.line(img, (x0,y0), (xt,yt), (B, G, R), thickness, line_type)` \n",
    "- untuk :\n",
    "    - `img` : input image\n",
    "    - `(x0, y0)` : start point (tuple)\n",
    "    - `(xt, yt)` : end point (tuple)\n",
    "    - `(B, G, R)` : line color (tuple)\n",
    "    - `thickness` : line thickness \n",
    "    - `line_type` :\n",
    "        - `cv2.FILLED` : filled line\n",
    "        - `cv2.LINE_4` : 4-connected line\n",
    "        - `cv2.LINE_8` : 8-connected line\n",
    "        - `cv2.LINE_AA` : antialiased line"
   ]
  },
  {
   "cell_type": "code",
   "execution_count": 3,
   "metadata": {},
   "outputs": [],
   "source": [
    "background = np.zeros((400, 400, 3)).astype(np.uint8)\n",
    "\n",
    "#  horizontal line (red), y0 = yt\n",
    "cv2.line(background,\n",
    "         (100, 350),                \n",
    "         (300, 350),               \n",
    "         (50,0,255),              \n",
    "         3,\n",
    "         cv2.FILLED)                      \n",
    "\n",
    "# vertical line (green), x0 = xt\n",
    "cv2.line(background,\n",
    "         (50, 100),                \n",
    "         (50, 300),              \n",
    "         (25,255,0),               \n",
    "         20,\n",
    "         cv2.LINE_8)  \n",
    "\n",
    "# garis miring (pink)\n",
    "cv2.line(background,\n",
    "         (250, 300),                   \n",
    "         (230 ,100),              \n",
    "         (255,0,255),             \n",
    "         5,\n",
    "         cv2.LINE_4)  \n",
    "\n",
    "# garis miring (tosca)\n",
    "cv2.line(background,\n",
    "         (300, 300),                \n",
    "         (280, 100),              \n",
    "         (100,127,0),               \n",
    "         5,\n",
    "         cv2.LINE_AA) \n",
    "\n",
    "cv2.imshow(\"Draw Line\", background)\n",
    "cv2.waitKey(0)\n",
    "cv2.destroyAllWindows()"
   ]
  },
  {
   "cell_type": "markdown",
   "metadata": {},
   "source": [
    "#### Draw Rectangle (`cv2.rectangle()`)\n",
    "\n",
    "\n",
    "- Menggunakan method `cv2.rectangle(img, (x0,y0), (xt,yt), (B, G, R), thickness, line_type)` \n",
    "- untuk :\n",
    "    - `img` : input image\n",
    "    - `(x0, y0)` : top-left-corner rectangle point (tuple)\n",
    "    - `(xt, yt)` : bottom-right-corner rectangle point (tuple)\n",
    "    - `(B, G, R)` : rectangle color (tuple)\n",
    "    - `thickness` : rectangle thickness (if negative, color will be user as fillcolor)\n",
    "    - `line_type` :\n",
    "        - `cv2.FILLED` : filled line\n",
    "        - `cv2.LINE_4` : 4-connected line\n",
    "        - `cv2.LINE_8` : 8-connected line\n",
    "        - `cv2.LINE_AA` : antialiased line"
   ]
  },
  {
   "cell_type": "code",
   "execution_count": 5,
   "metadata": {},
   "outputs": [],
   "source": [
    "background = np.zeros((400, 400, 3)).astype(np.uint8)\n",
    "\n",
    "# outline color\n",
    "cv2.rectangle(background,\n",
    "              (15,25),    \n",
    "              (200,150),  \n",
    "              (0,0,255), \n",
    "              5)          \n",
    "\n",
    "# fill color\n",
    "cv2.rectangle(background,\n",
    "              (210,50),   \n",
    "              (270,270),  \n",
    "              (0,200,255),\n",
    "              -1,\n",
    "               cv2.LINE_AA)           \n",
    "\n",
    "cv2.imshow(\"Draw Rectangle\", background)\n",
    "\n",
    "cv2.waitKey(0)\n",
    "cv2.destroyAllWindows()"
   ]
  },
  {
   "cell_type": "markdown",
   "metadata": {},
   "source": [
    "#### Draw Circle (`cv2.circle()`)\n",
    "\n",
    "\n",
    "- Menggunakan method `cv2.circle(img, (x,y), radius, (B, G, R), thickness, line_type)` \n",
    "- untuk :\n",
    "    - `img` : input image\n",
    "    - `(x, y)` : circle center point (tuple)\n",
    "    - `radius` : circle radius (in pixel)\n",
    "    - `(B, G, R)` : circle color (tuple)\n",
    "    - `thickness` : circle thickness  (if negative, color will be user as fillcolor)\n",
    "    - `line_type` :\n",
    "        - `cv2.FILLED` : filled line\n",
    "        - `cv2.LINE_4` : 4-connected line\n",
    "        - `cv2.LINE_8` : 8-connected line\n",
    "        - `cv2.LINE_AA` : antialiased line"
   ]
  },
  {
   "cell_type": "code",
   "execution_count": 8,
   "metadata": {},
   "outputs": [],
   "source": [
    "img = cv2.imread(\"lena.jpg\")\n",
    "\n",
    "# circle outline\n",
    "cv2.circle(img,\n",
    "           (65, 65),         \n",
    "           55,               \n",
    "           (0,255,150),      \n",
    "           2,\n",
    "           cv2.LINE_AA)                \n",
    "\n",
    "# circle fill\n",
    "cv2.circle(img,\n",
    "           (65, 250),         \n",
    "           55,                \n",
    "           (0,50,250),       \n",
    "           -1,\n",
    "           cv2.LINE_AA)                \n",
    "                             \n",
    "    \n",
    "cv2.imshow(\"Draw Circle\", img)\n",
    "\n",
    "cv2.waitKey(0)\n",
    "cv2.destroyAllWindows()"
   ]
  },
  {
   "cell_type": "markdown",
   "metadata": {},
   "source": [
    "#### Write Text (`cv2.putText()`)\n",
    "\n",
    "\n",
    "- Menggunakan method `cv2.putText(img, text, (x,y), font_type, font_scale, (B, G, R), thickness, line_type)` \n",
    "- untuk :\n",
    "    - `img` : input image\n",
    "    - `text` : string to write in image \n",
    "    - `(x, y)` : start-left position of text (tuple)\n",
    "    - `font_type` : \n",
    "        - `cv2.FONT_HERSHEY_SIMPLEX` : size sans-serif font\n",
    "        - `cv2.FONT_HERSHEY_PLAIN` : small size sans-serif font\n",
    "        - `cv2.FONT_HERSHEY_DUPLEX` : normal size sans-serif font (more complex than FONT_HERSHEY_SIMPLEX)\n",
    "        - `cv2.FONT_HERSHEY_COMPLEX` : normal size serif font\n",
    "        - `cv2.FONT_HERSHEY_TRIPLEX` : normal size serif font (more complex than FONT_HERSHEY_COMPLEX)\n",
    "        - `cv2.FONT_HERSHEY_COMPLEX_SMALL` : smaller version of FONT_HERSHEY_COMPLEX\n",
    "        - `cv2.FONT_HERSHEY_SCRIPT_SIMPLEX` : hand-writing style font\n",
    "        - `cv2.FONT_HERSHEY_SCRIPT_COMPLEX` : more complex variant of FONT_HERSHEY_SCRIPT_SIMPLEX\n",
    "        - `cv2.FONT_ITALIC` : flag for italic font\n",
    "    - `(B, G, R)` : circle color (tuple)\n",
    "    - `thickness` : circle thickness  (if negative, color will be user as fillcolor)\n",
    "    - `line_type` :\n",
    "        - `cv2.FILLED` : filled line\n",
    "        - `cv2.LINE_4` : 4-connected line\n",
    "        - `cv2.LINE_8` : 8-connected line\n",
    "        - `cv2.LINE_AA` : antialiased line"
   ]
  },
  {
   "cell_type": "code",
   "execution_count": 10,
   "metadata": {},
   "outputs": [
    {
     "name": "stdout",
     "output_type": "stream",
     "text": [
      "[(1, 'A'), (2, 'B'), (3, 'C'), (4, 'D')]\n"
     ]
    }
   ],
   "source": [
    "A = [1, 2, 3, 4]\n",
    "B = ['A', 'B', 'C', 'D']\n",
    "\n",
    "C = zip(A, B)\n",
    "print(list(C))"
   ]
  },
  {
   "cell_type": "code",
   "execution_count": 15,
   "metadata": {},
   "outputs": [],
   "source": [
    "background = np.zeros((200, 600, 3)).astype(np.uint8)\n",
    "h, w, c = background.shape\n",
    "\n",
    "font_types = [cv2.FONT_HERSHEY_SIMPLEX,\n",
    "            cv2.FONT_HERSHEY_PLAIN,\n",
    "            cv2.FONT_HERSHEY_DUPLEX,\n",
    "            cv2.FONT_HERSHEY_COMPLEX,\n",
    "            cv2.FONT_HERSHEY_TRIPLEX,\n",
    "            cv2.FONT_HERSHEY_COMPLEX_SMALL,\n",
    "            cv2.FONT_HERSHEY_SCRIPT_SIMPLEX,\n",
    "            cv2.FONT_HERSHEY_SCRIPT_COMPLEX,\n",
    "            cv2.FONT_ITALIC ]\n",
    "\n",
    "texts      = ['FONT HERSHEY SIMPLEX',\n",
    "            'FONT HERSHEY PLAIN',\n",
    "            'FONT HERSHEY DUPLEX',\n",
    "            'FONT HERSHEY COMPLEX',\n",
    "            'FONT HERSHEY TRIPLEX',\n",
    "            'FONT HERSHEY COMPLEX SMALL',\n",
    "            'FONT HERSHEY SCRIPT SIMPLEX',\n",
    "            'FONT HERSHEY SCRIPT COMPLEX',\n",
    "            'FONT ITALIC' ]\n",
    "\n",
    "for text, font_type in zip(texts, font_types):\n",
    "    frame = background.copy()\n",
    "    cv2.putText(frame, \n",
    "                text, \n",
    "                (50, 50), \t                   \n",
    "                font_type,     \n",
    "                0.9,                          \n",
    "                (0, 255, 127),                \n",
    "                1,\n",
    "                cv2.LINE_AA)      \n",
    "    cv2.imshow(\"Write Text\", frame)\n",
    "    cv2.waitKey(2000) #delay 2 second\n",
    "    \n",
    "cv2.destroyAllWindows()"
   ]
  },
  {
   "cell_type": "markdown",
   "metadata": {},
   "source": [
    "- Mouse Event Click untuk draw line"
   ]
  },
  {
   "cell_type": "code",
   "execution_count": 20,
   "metadata": {},
   "outputs": [],
   "source": [
    "x0, y0, xt, yt = 0, 0, 0, 0\n",
    "\n",
    "title_window = \"Draw Line\"\n",
    "is_draw = False\n",
    "frame = np.ones((400, 400, 3)).astype(np.uint8)*255\n",
    " \n",
    "def draw_line(x0, y0, xt, yt):\n",
    "    background = frame.copy()\n",
    "    cv2.line(background, (x0, y0), (xt, yt), (255,0,255), 15, cv2.LINE_AA)\n",
    "    cv2.imshow(title_window, background)\n",
    "    \n",
    "    \n",
    "def read_line(event,x,y,flags,param):\n",
    "    \n",
    "    global x0, y0, xt, yt, is_draw\n",
    "    \n",
    "    if event == cv2.EVENT_LBUTTONDOWN:\n",
    "        x0, y0, xt, yt = x, y, x, y\n",
    "        is_draw = True\n",
    "\n",
    "    elif event == cv2.EVENT_MOUSEMOVE:\n",
    "        xt, yt = x, y\n",
    "\n",
    "    elif event == cv2.EVENT_LBUTTONUP:\n",
    "        xt, yt = x, y\n",
    "        is_draw = False\n",
    "        \n",
    "    if is_draw :\n",
    "        draw_line(x0, y0, xt, yt)\n",
    "    \n",
    "    \n",
    "cv2.namedWindow(title_window) \n",
    "cv2.setMouseCallback(title_window, read_line) \n",
    "\n",
    "draw_line(x0, y0, xt, yt)\n",
    "cv2.waitKey(0)\n",
    "cv2.destroyAllWindows()"
   ]
  },
  {
   "cell_type": "markdown",
   "metadata": {},
   "source": [
    "- Mouse Event Click dan Trackbar untuk draw circle\n",
    "\n",
    "hitung radius circle dengan menggunakan, \n",
    "\n",
    "$r = \\sqrt{(x - x0)^{2} + (y - y0)^{2}} $ \n",
    "\n",
    "untuk $x0$ dan $y0$ merupakan pusat lingkaran."
   ]
  },
  {
   "cell_type": "code",
   "execution_count": 23,
   "metadata": {},
   "outputs": [],
   "source": [
    "import math\n",
    "x0, y0, r = 0, 0, 0\n",
    "\n",
    "title_window = \"Draw Circle\"\n",
    "is_draw = False\n",
    "frame = np.ones((400, 400, 3)).astype(np.uint8)*255\n",
    " \n",
    "def draw_circle(x0, y0, r):\n",
    "    background = frame.copy()\n",
    "    cv2.circle(background, (x0, y0), r, (0,255,150), 2, cv2.LINE_AA)\n",
    "    cv2.imshow(title_window, background)\n",
    "    \n",
    "    \n",
    "def read_circle(event,x,y,flags,param):\n",
    "    \n",
    "    global x0, y0, r, is_draw\n",
    "    \n",
    "    if event == cv2.EVENT_LBUTTONDOWN:\n",
    "        x0, y0, r = x, y, 0\n",
    "        is_draw = True\n",
    "\n",
    "    elif event == cv2.EVENT_MOUSEMOVE:\n",
    "        r = int(math.sqrt((x - x0)**2 + (y - y0)**2))\n",
    "\n",
    "    elif event == cv2.EVENT_LBUTTONUP:\n",
    "        r = int(math.sqrt((x - x0)**2 + (y - y0)**2))\n",
    "        is_draw = False\n",
    "        \n",
    "    if is_draw :\n",
    "        draw_circle(x0, y0, r)\n",
    "    \n",
    "    \n",
    "cv2.namedWindow(title_window) \n",
    "cv2.setMouseCallback(title_window, read_circle) \n",
    "\n",
    "draw_circle(x0, y0, r)\n",
    "cv2.waitKey(0)\n",
    "cv2.destroyAllWindows()"
   ]
  },
  {
   "cell_type": "markdown",
   "metadata": {},
   "source": [
    "#### Task\n",
    "- Mouse Event Click untuk draw rectangle"
   ]
  },
  {
   "cell_type": "code",
   "execution_count": 48,
   "metadata": {},
   "outputs": [],
   "source": [
    "# ------ Jawaban --------\n",
    "#\n",
    "#\n",
    "#"
   ]
  },
  {
   "cell_type": "code",
   "execution_count": 24,
   "metadata": {},
   "outputs": [],
   "source": [
    "x0, y0, xt, yt = 0, 0, 0, 0\n",
    "\n",
    "title_window = \"Draw Rectangle\"\n",
    "is_draw = False\n",
    "frame = np.ones((400, 400, 3)).astype(np.uint8)*255\n",
    " \n",
    "def draw_rectangle(x0, y0, xt, yt):\n",
    "    background = frame.copy()\n",
    "    cv2.rectangle(background, (x0, y0), (xt, yt), (0,200,255), -1, cv2.LINE_AA)\n",
    "    cv2.imshow(title_window, background)\n",
    "    \n",
    "    \n",
    "def read_rectangle(event,x,y,flags,param):\n",
    "    \n",
    "    global x0, y0, xt, yt, is_draw\n",
    "    \n",
    "    if event == cv2.EVENT_LBUTTONDOWN:\n",
    "        x0, y0, xt, yt = x, y, x, y\n",
    "        is_draw = True\n",
    "\n",
    "    elif event == cv2.EVENT_MOUSEMOVE:\n",
    "        xt, yt = x, y\n",
    "\n",
    "    elif event == cv2.EVENT_LBUTTONUP:\n",
    "        xt, yt = x, y\n",
    "        is_draw = False\n",
    "        \n",
    "    if is_draw :\n",
    "        draw_rectangle(x0, y0, xt, yt)\n",
    "    \n",
    "    \n",
    "cv2.namedWindow(title_window) \n",
    "cv2.setMouseCallback(title_window, read_rectangle) \n",
    "\n",
    "draw_rectangle(x0, y0, xt, yt)\n",
    "cv2.waitKey(0)\n",
    "cv2.destroyAllWindows()"
   ]
  },
  {
   "cell_type": "markdown",
   "metadata": {},
   "source": [
    "___"
   ]
  },
  {
   "cell_type": "markdown",
   "metadata": {},
   "source": [
    "## Contour Detection & Contour Drawing \n",
    "\n",
    "- Menggunakan method `cv2.findContour(img, mode, method)`\n",
    "- dimana :\n",
    "    - `img` : input image\n",
    "    - `mode` :\n",
    "        - `cv2.CHAIN_APPROX_NONE` : all the boundary points are stored\n",
    "        - `cv2.CHAIN_APPROX_SIMPLE` : only end points / corner of that shape are stored <br>\n",
    "        <img src=\"resource/mode_find_contour.png\" style=\"width:300px; margin-top:10px\"></img>\n",
    "        - `with cv2.CHAIN_APPROX_NONE` (734 points) \n",
    "        - second image shows the one with `cv2.CHAIN_APPROX_SIMPLE` (only 4 points)\n",
    "    - `method` : \n",
    "        - `cv2.RETR_EXTERNAL`  : retrieves only the **extreme outer contours**.  It sets all contours to `hierarchy[i][2] = hierarchy[i][3] = -1`.\n",
    "        - `cv2.RETR_LIST`   : retrieves **all of the contours** without establishing any hierarchical relationships. \n",
    "        - `cv2.RETR_CCOMP`  : retrieves **all of the contours** and organizes them into a **two-level hierarchy**.  \n",
    "        - `cv2.RETR_TREE`   : retrieves **all of the contours** and reconstructs a **full hierarchy** of nested contours. \n",
    "        \n",
    "- Output : \n",
    "    - `contours` : list of countour location (x,y) : <br>\n",
    "    <img src=\"resource/hierarchy_moves.gif\" style=\"width:400px; margin-top:10px\"></img>\n",
    "    \n",
    "    - `hierarchy` : list of `[Next, Previous, First_Child, Parent]`, <br> Representation of this relationship when some shapes are inside other shapes, we call outer one as **parent** and inner one as **child**. \n",
    "        - `Next` : next contour at the same hierarchical level.\n",
    "        - `Previous` : previous contour at the same hierarchical level.\n",
    "        - `First_Child` : first child contour.\n",
    "        - `Parent` : index of its parent contour. <br>\n",
    "        > *If there is no **child** or **parent**, that field is taken as -1*\n",
    "        - Example :<br>\n",
    "            <img src=\"resource/hierarchy.png\" style=\"width:400px; margin-top:10px\"></img>\n",
    "            - `Next` & `Previous` :\n",
    "                - Start from contour-0. Who is next contour in its same level ? It is contour-1. \n",
    "                - So simply put Next = 1. Similarly for Contour-1, next is contour-2. So Next = 2. \n",
    "                - What about contour-2? There is no next contour in the same level. \n",
    "                - So simply, put Next = -1. \n",
    "                - What about contour-4? It is in same level with contour-5. \n",
    "                - So its next contour is contour-5, so Next = 5.\n",
    "            - `First_Child` & `Parent` :\n",
    "                - For contour-2, child is contour-2a. \n",
    "                - So it gets the corresponding index value of contour-2a. \n",
    "                - What about contour-3a? It has two children. \n",
    "                - But we take only first child. And it is contour-4. So First_Child = 4 for contour-3a."
   ]
  },
  {
   "cell_type": "markdown",
   "metadata": {},
   "source": [
    "#### Method `cv2.RETR_EXTERNAL`\n",
    "- retrieves only the extreme outer contours. It sets all contours to hierarchy[i][2] = hierarchy[i][3] = -1."
   ]
  },
  {
   "cell_type": "code",
   "execution_count": 35,
   "metadata": {},
   "outputs": [],
   "source": [
    "img = cv2.imread('hierarchy.png')\n",
    "\n",
    "gray = cv2.cvtColor(img, cv2.COLOR_BGR2GRAY)\n",
    "\n",
    "ret, thresh = cv2.threshold(gray, 127, 255, cv2.THRESH_BINARY)\n",
    "\n",
    "contours, hierarchy = cv2.findContours(thresh, cv2.RETR_EXTERNAL, cv2.CHAIN_APPROX_NONE)"
   ]
  },
  {
   "cell_type": "code",
   "execution_count": 36,
   "metadata": {},
   "outputs": [
    {
     "data": {
      "text/plain": [
       "array([[[ 1, -1, -1, -1],\n",
       "        [ 2,  0, -1, -1],\n",
       "        [-1,  1, -1, -1]]], dtype=int32)"
      ]
     },
     "execution_count": 36,
     "metadata": {},
     "output_type": "execute_result"
    }
   ],
   "source": [
    "hierarchy"
   ]
  },
  {
   "cell_type": "markdown",
   "metadata": {},
   "source": [
    "### Draw Contour `cv2.drawContour()`\n",
    "\n",
    "- menggunakan method `cv2.drawContours(img, contour, contour_index, (B,G,R), thickness)`\n",
    "- dimana :\n",
    "    - `img` : input image\n",
    "    - `contour` : contour location (list)\n",
    "    - `contour_index` : parameter indicating a contour to draw. If it is negative, all the contours are drawn.\n",
    "    - `(B,G,R)` : contour color\n",
    "    - `thickness` : contour thickness"
   ]
  },
  {
   "cell_type": "code",
   "execution_count": 38,
   "metadata": {},
   "outputs": [],
   "source": [
    "for cnt in contours:\n",
    "    cv2.drawContours(img, cnt, -1, (0,0,255), 3)"
   ]
  },
  {
   "cell_type": "code",
   "execution_count": 39,
   "metadata": {},
   "outputs": [],
   "source": [
    "cv2.imshow(\"Drawing Contour - Method External\", img)\n",
    "cv2.waitKey(0)\n",
    "cv2.destroyAllWindows()"
   ]
  },
  {
   "cell_type": "markdown",
   "metadata": {},
   "source": [
    "### Method `cv2.RETR_TREE`\n",
    "- retrieves **all of the contours** and reconstructs a **full hierarchy** of nested contours. <br>\n",
    "<img src=\"resource/tree_hierarchy.png\" style=\"width:450px; margin-top:10px;\"></img>"
   ]
  },
  {
   "cell_type": "code",
   "execution_count": 49,
   "metadata": {},
   "outputs": [],
   "source": [
    "img = cv2.imread('hierarchy.png')\n",
    "\n",
    "gray = cv2.cvtColor(img, cv2.COLOR_BGR2GRAY)\n",
    "\n",
    "ret, thresh = cv2.threshold(gray, 127, 255, cv2.THRESH_BINARY)\n",
    "\n",
    "contours, hierarchy = cv2.findContours(thresh, cv2.RETR_TREE, cv2.CHAIN_APPROX_NONE)"
   ]
  },
  {
   "cell_type": "code",
   "execution_count": 50,
   "metadata": {},
   "outputs": [
    {
     "data": {
      "text/plain": [
       "array([[[ 7, -1,  1, -1],\n",
       "        [-1, -1,  2,  0],\n",
       "        [-1, -1,  3,  1],\n",
       "        [-1, -1,  4,  2],\n",
       "        [-1, -1,  5,  3],\n",
       "        [ 6, -1, -1,  4],\n",
       "        [-1,  5, -1,  4],\n",
       "        [ 8,  0, -1, -1],\n",
       "        [-1,  7, -1, -1]]], dtype=int32)"
      ]
     },
     "execution_count": 50,
     "metadata": {},
     "output_type": "execute_result"
    }
   ],
   "source": [
    "hierarchy"
   ]
  },
  {
   "cell_type": "code",
   "execution_count": 51,
   "metadata": {},
   "outputs": [],
   "source": [
    "for cnt in contours:\n",
    "    cv2.drawContours(img, cnt, -1, (0,0,255), 3)"
   ]
  },
  {
   "cell_type": "code",
   "execution_count": 52,
   "metadata": {},
   "outputs": [],
   "source": [
    "cv2.imshow(\"Drawing Contour - Method TREE\", img)\n",
    "cv2.waitKey(0)\n",
    "cv2.destroyAllWindows()"
   ]
  },
  {
   "cell_type": "markdown",
   "metadata": {},
   "source": [
    "### Method `cv2.RETR_CCOMP`\n",
    "- retrieves **all of the contours** and organizes them into a **two-level hierarchy**. <br>\n",
    "<img src=\"resource/ccomp_hierarchy.png\" style=\"width:450px; margin-top:10px;\"></img>"
   ]
  },
  {
   "cell_type": "code",
   "execution_count": 53,
   "metadata": {},
   "outputs": [],
   "source": [
    "img = cv2.imread('hierarchy.png')\n",
    "\n",
    "gray = cv2.cvtColor(img, cv2.COLOR_BGR2GRAY)\n",
    "\n",
    "ret, thresh = cv2.threshold(gray, 127, 255, cv2.THRESH_BINARY)\n",
    "\n",
    "contours, hierarchy = cv2.findContours(thresh, cv2.RETR_CCOMP, cv2.CHAIN_APPROX_NONE)"
   ]
  },
  {
   "cell_type": "code",
   "execution_count": 55,
   "metadata": {},
   "outputs": [],
   "source": [
    "for cnt in contours:\n",
    "    cv2.drawContours(img, cnt, -1, (0,0,255), 3)"
   ]
  },
  {
   "cell_type": "code",
   "execution_count": 56,
   "metadata": {},
   "outputs": [],
   "source": [
    "cv2.imshow(\"Drawing Contour - Method CCOMP\", img)\n",
    "cv2.waitKey(0)\n",
    "cv2.destroyAllWindows()"
   ]
  },
  {
   "cell_type": "markdown",
   "metadata": {},
   "source": [
    "### Task\n",
    "\n",
    "- Read `noisy_text.png`\n",
    "- Convert to grayscale\n",
    "- Apply thresholding, \n",
    "- Find extream contour \n",
    "- Draw contour\n",
    "\n",
    "![](resource/jawaban_task2.PNG)"
   ]
  },
  {
   "cell_type": "code",
   "execution_count": 27,
   "metadata": {},
   "outputs": [],
   "source": [
    "# -------- Jawaban ------------\n",
    "#\n",
    "#\n",
    "#\n",
    "#\n",
    "#"
   ]
  },
  {
   "cell_type": "code",
   "execution_count": 65,
   "metadata": {},
   "outputs": [],
   "source": [
    "img = cv2.imread('noisy_text.png')\n",
    "\n",
    "gray = cv2.cvtColor(img, cv2.COLOR_BGR2GRAY)\n",
    "\n",
    "ret, thresh = cv2.threshold(gray, 100, 255, cv2.THRESH_BINARY_INV)\n",
    "\n",
    "contours, hierarchy = cv2.findContours(thresh, cv2.RETR_EXTERNAL, cv2.CHAIN_APPROX_NONE)\n",
    "\n",
    "for cnt in contours:\n",
    "    cv2.drawContours(img, cnt, -1, (255,0,255), 6)\n",
    "    \n",
    "cv2.imshow(\"Drawing Contour\", img)\n",
    "cv2.imshow(\"Binary\", thresh)\n",
    "cv2.waitKey(0)\n",
    "cv2.destroyAllWindows()"
   ]
  },
  {
   "cell_type": "markdown",
   "metadata": {},
   "source": [
    "____\n",
    "## Contour Feature \n",
    "- Contour Area (luasan) <br>\n",
    "    `area = cv2.contourArea(cnt)`\n",
    "- Contour Perimeter (keliling) <br>\n",
    "    `perimeter = cv2.arcLength(cnt,True)`\n",
    "- Contour Approximation <br>\n",
    "    `epsilon = 0.1*cv2.arcLength(cnt,True)` <br>\n",
    "    `approx = cv2.approxPolyDP(cnt,epsilon,True)` <br>\n",
    "    Below, in second image, green line shows the approximated curve for epsilon = 10% of arc length. <br>\n",
    "    Third image shows the same for epsilon = 1% of the arc length. <br>\n",
    "    <img src=\"resource/approx.jpg\" style=\"width:400px; margin-top:10px;\"></img>\n",
    "- Convex Hull <br>\n",
    "    `hull = cv2.convexHull(points[, hull[, clockwise[, returnPoints]]` <br>\n",
    "    <img src=\"resource/convexitydefects.jpg\" style=\"width:200px; margin-top:10px;\"></img>\n",
    "- Bounding Rectangle <br>\n",
    "    <img src=\"resource/boundingrect.png\" style=\"width:200px; margin-top:10px;\"></img>\n",
    "    - Straight Bounding Rectangle <br>\n",
    "        `rect = cv2.boundingRect(cc)`\n",
    "    - Rotated Rectangle <br>\n",
    "        `rect = cv2.minAreaRect(cnt)`\n",
    "- Minimum Enclosing Circle <br>\n",
    "    `(x,y),radius = cv2.minEnclosingCircle(cnt)` <br>\n",
    "    `center = (int(x),int(y))` <br>\n",
    "    `radius = int(radius)` <br>\n",
    "    <img src=\"resource/circumcircle.png\" style=\"width:200px; margin-top:10px;\"></img>\n",
    "- Fitting an Ellipse <br>\n",
    "    `ellipse = cv2.fitEllipse(cnt)` <br>\n",
    "    `cv2.ellipse(img,ellipse,(0,255,0),2)` <br>\n",
    "    <img src=\"resource/fitellipse.png\" style=\"width:200px; margin-top:10px;\"></img>\n",
    "- Fitting a Line <br>\n",
    "    `rows,cols = img.shape[:2]` <br>\n",
    "    `[vx,vy,x,y] = cv2.fitLine(cnt, cv2.DIST_L2,0,0.01,0.01)` <br>\n",
    "    `lefty = int((-x*vy/vx) + y)` <br>\n",
    "    `righty = int(((cols-x)*vy/vx)+y)` <br>\n",
    "    <img src=\"resource/fitline.jpg\" style=\"width:200px; margin-top:10px;\"></img>"
   ]
  },
  {
   "cell_type": "markdown",
   "metadata": {},
   "source": [
    "- Contour Area (luasan)"
   ]
  },
  {
   "cell_type": "code",
   "execution_count": 67,
   "metadata": {},
   "outputs": [
    {
     "name": "stdout",
     "output_type": "stream",
     "text": [
      "luas : 12111 pixel\n",
      "luas : 12104 pixel\n",
      "luas : 10484 pixel\n",
      "luas : 16998 pixel\n",
      "luas : 9304 pixel\n",
      "luas : 10492 pixel\n",
      "luas : 7052 pixel\n"
     ]
    }
   ],
   "source": [
    "for cnt in contours:\n",
    "    area = cv2.contourArea(cnt)\n",
    "    print(\"luas : %d pixel\" % area)"
   ]
  },
  {
   "cell_type": "markdown",
   "metadata": {},
   "source": [
    "- Contour Perimeter (keliling)"
   ]
  },
  {
   "cell_type": "code",
   "execution_count": 68,
   "metadata": {},
   "outputs": [
    {
     "name": "stdout",
     "output_type": "stream",
     "text": [
      "keliling : 775 pixel\n",
      "keliling : 776 pixel\n",
      "keliling : 782 pixel\n",
      "keliling : 505 pixel\n",
      "keliling : 723 pixel\n",
      "keliling : 722 pixel\n",
      "keliling : 459 pixel\n"
     ]
    }
   ],
   "source": [
    "for cnt in contours:\n",
    "    perimeter = cv2.arcLength(cnt,True)\n",
    "    print(\"keliling : %d pixel\" % perimeter)"
   ]
  },
  {
   "cell_type": "markdown",
   "metadata": {},
   "source": [
    "- Contour Approximation"
   ]
  },
  {
   "cell_type": "code",
   "execution_count": 72,
   "metadata": {},
   "outputs": [],
   "source": [
    "img = cv2.imread('noisy_text.png')\n",
    "\n",
    "gray = cv2.cvtColor(img, cv2.COLOR_BGR2GRAY)\n",
    "\n",
    "ret, thresh = cv2.threshold(gray, 100, 255, cv2.THRESH_BINARY_INV)\n",
    "\n",
    "contours, hierarchy = cv2.findContours(thresh, cv2.RETR_EXTERNAL, cv2.CHAIN_APPROX_NONE)\n",
    "\n",
    "for cnt in contours:\n",
    "    epsilon = 0.1*cv2.arcLength(cnt,True)\n",
    "    approx = cv2.approxPolyDP(cnt,epsilon,True)\n",
    "    cv2.polylines(img, [approx], True, (0,255,255), 3)\n",
    "    \n",
    "cv2.imshow(\"Contour Approximation\", img)\n",
    "cv2.waitKey(0)\n",
    "cv2.destroyAllWindows()"
   ]
  },
  {
   "cell_type": "markdown",
   "metadata": {},
   "source": [
    "- Trackbar change epsilon to arcLength portion on Contour Approximation"
   ]
  },
  {
   "cell_type": "code",
   "execution_count": 73,
   "metadata": {},
   "outputs": [],
   "source": [
    "max_value = 1000\n",
    "default_value = 10\n",
    "\n",
    "title_window = \"Contour Approximation\"\n",
    "\n",
    "def on_trackbar(val):\n",
    "    if val > 0 :\n",
    "        frame = img.copy()\n",
    "        for cnt in contours:\n",
    "            epsilon = (1/val)*cv2.arcLength(cnt,True)\n",
    "            approx = cv2.approxPolyDP(cnt,epsilon,True)\n",
    "            cv2.polylines(frame, [approx], True, (0,255,255), 3)\n",
    "            cv2.imshow(title_window, frame)\n",
    "\n",
    "img = cv2.imread('noisy_text.png')\n",
    "gray = cv2.cvtColor(img, cv2.COLOR_BGR2GRAY)\n",
    "ret, thresh = cv2.threshold(gray, 100, 255, cv2.THRESH_BINARY_INV)\n",
    "contours, hierarchy = cv2.findContours(thresh, cv2.RETR_EXTERNAL, cv2.CHAIN_APPROX_NONE)\n",
    "\n",
    "cv2.namedWindow(title_window)\n",
    "cv2.createTrackbar('divisor', title_window , default_value, max_value, on_trackbar)\n",
    "\n",
    "on_trackbar(default_value)\n",
    "cv2.waitKey(0)\n",
    "cv2.destroyAllWindows()"
   ]
  },
  {
   "cell_type": "markdown",
   "metadata": {},
   "source": [
    "- Straight Bounding Rectangle"
   ]
  },
  {
   "cell_type": "code",
   "execution_count": null,
   "metadata": {},
   "outputs": [],
   "source": []
  },
  {
   "cell_type": "code",
   "execution_count": 74,
   "metadata": {},
   "outputs": [
    {
     "name": "stdout",
     "output_type": "stream",
     "text": [
      "(998, 212, 155, 143)\n",
      "(843, 212, 154, 143)\n",
      "(648, 212, 119, 145)\n",
      "(101, 212, 132, 143)\n",
      "(515, 210, 118, 147)\n",
      "(380, 209, 119, 146)\n",
      "(258, 209, 82, 146)\n"
     ]
    }
   ],
   "source": [
    "img = cv2.imread('noisy_text.png')\n",
    "gray = cv2.cvtColor(img, cv2.COLOR_BGR2GRAY)\n",
    "ret, thresh = cv2.threshold(gray, 100, 255, cv2.THRESH_BINARY_INV)\n",
    "\n",
    "contours, hierarchy = cv2.findContours(thresh, cv2.RETR_EXTERNAL, cv2.CHAIN_APPROX_NONE)\n",
    "\n",
    "for cnt in contours:\n",
    "    rect = cv2.boundingRect(cnt)\n",
    "    print(rect) # x, y, w, h"
   ]
  },
  {
   "cell_type": "markdown",
   "metadata": {},
   "source": [
    "- Draw bounding box for each contour using `cv2.rectangle()`"
   ]
  },
  {
   "cell_type": "code",
   "execution_count": 75,
   "metadata": {},
   "outputs": [],
   "source": [
    "frame = img.copy()\n",
    "for cnt in contours:\n",
    "    rect = cv2.boundingRect(cnt)\n",
    "    x, y, w, h = rect\n",
    "    cv2.rectangle(frame, (x, y), (x+w, y+h), (0,0,255), 3)\n",
    "    \n",
    "cv2.imshow(\"Contour Draw Rectangle\", frame)\n",
    "cv2.waitKey(0)\n",
    "cv2.destroyAllWindows()"
   ]
  },
  {
   "cell_type": "markdown",
   "metadata": {},
   "source": [
    "- Crop each contour from input image, and display"
   ]
  },
  {
   "cell_type": "code",
   "execution_count": 76,
   "metadata": {},
   "outputs": [],
   "source": [
    "frame = img.copy()\n",
    "for i, cnt in enumerate(contours):\n",
    "    rect = cv2.boundingRect(cnt)\n",
    "    x, y, w, h = rect\n",
    "    roi = frame[y:y+h, x:x+w]\n",
    "    cv2.imshow(\"Contour-%d\" % i, roi)\n",
    "    \n",
    "cv2.waitKey(0)\n",
    "cv2.destroyAllWindows()"
   ]
  },
  {
   "cell_type": "code",
   "execution_count": 77,
   "metadata": {},
   "outputs": [],
   "source": [
    "frame = img.copy()\n",
    "roi = []\n",
    "for i, cnt in enumerate(contours):\n",
    "    rect = cv2.boundingRect(cnt)\n",
    "    x, y, w, h = rect\n",
    "    roi.append(frame[y:y+h, x:x+w])\n",
    "    \n",
    "cv2.waitKey(0)\n",
    "cv2.destroyAllWindows()"
   ]
  },
  {
   "cell_type": "code",
   "execution_count": 80,
   "metadata": {},
   "outputs": [],
   "source": [
    "for i, item in enumerate(roi) :\n",
    "    cv2.imshow(\"image roi - %d\" %i , item)   \n",
    "cv2.waitKey(0)\n",
    "cv2.destroyAllWindows()"
   ]
  },
  {
   "cell_type": "markdown",
   "metadata": {},
   "source": [
    "### Crop Foto KTP\n",
    "- Crop foto dari KTP berikut `ktp.jpg` <br>\n",
    "<img src=\"ktp1.jpg\" style=\"width:300px; margin-top:10px;\"></img>"
   ]
  },
  {
   "cell_type": "code",
   "execution_count": 95,
   "metadata": {},
   "outputs": [],
   "source": []
  },
  {
   "cell_type": "code",
   "execution_count": 109,
   "metadata": {},
   "outputs": [],
   "source": [
    "img = cv2.imread(\"ktp4.jpg\")\n",
    "h_img, w_img, c = img.shape\n",
    "\n",
    "gray = cv2.cvtColor(img, cv2.COLOR_BGR2GRAY)\n",
    "thresh, binary = cv2.threshold(gray, 0, 255, cv2.THRESH_BINARY_INV + cv2.THRESH_OTSU)\n",
    "\n",
    "contours, hierarchy = cv2.findContours(binary, cv2.RETR_CCOMP, cv2.CHAIN_APPROX_NONE)\n",
    "\n",
    "for cnt in contours:\n",
    "    rect = cv2.boundingRect(cnt)\n",
    "    x, y, w, h = rect\n",
    "\n",
    "    aspectRatio = w/h\n",
    "    heightRatio = h/ h_img\n",
    "    \n",
    "    keepAspectRatio = aspectRatio > 0.7 and aspectRatio < 0.9\n",
    "    keepHeighRatio = heightRatio > 0.4 and heightRatio < 0.5\n",
    "    \n",
    "    if keepAspectRatio and  keepHeighRatio :\n",
    "        roi = img[y:y+h, x:x+w]\n",
    "        cv2.rectangle(img, (x, y), (x+w, y+h), (255, 0, 255), 2)\n",
    "    \n",
    "        cv2.imshow(\"Binary\", binary)\n",
    "        cv2.imshow(\"Cropped Photo\", roi)\n",
    "        \n",
    "cv2.imshow(\"Detected Photo\", img)  \n",
    "cv2.waitKey(0)\n",
    "cv2.destroyAllWindows()"
   ]
  },
  {
   "cell_type": "markdown",
   "metadata": {},
   "source": [
    "### Pekerjaan Rumah\n",
    "Crop character plat nomor dari gambar`plat-nomor-1.jpg`\n",
    "\n",
    "<img src=\"resource/plat_nomor_crop.png\" style=\"width:700px; margin-top:10px;\"></img>"
   ]
  },
  {
   "cell_type": "code",
   "execution_count": 114,
   "metadata": {},
   "outputs": [],
   "source": [
    "img = cv2.imread(\"plat-nomor-5.jpg\")\n",
    "\n",
    "ratio = 350.0/img.shape[0]\n",
    "img = cv2.resize(img, (0,0), fx=ratio, fy=ratio)\n",
    "h_img, w_img, c = img.shape\n",
    "\n",
    "gray = cv2.cvtColor(img, cv2.COLOR_BGR2GRAY)\n",
    "\n",
    "thresh, binary_tzr = cv2.threshold(gray, 0, 255, cv2.THRESH_TOZERO + cv2.THRESH_OTSU)\n",
    "thresh, binary = cv2.threshold(binary_tzr, 127, 255, cv2.THRESH_BINARY)\n",
    "\n",
    "contours, hierarchy = cv2.findContours(binary, cv2.RETR_CCOMP, cv2.CHAIN_APPROX_NONE)\n",
    "\n",
    "for i, cnt in enumerate(contours):\n",
    "    area = cv2.contourArea(cnt)\n",
    "    rect = cv2.boundingRect(cnt)\n",
    "    x, y, w, h = rect\n",
    "    \n",
    "    aspectRatio = w/h\n",
    "    heightRatio = h/ h_img\n",
    "    Next,Previous,First_Child,Parent = hierarchy[0][i]\n",
    "                    \n",
    "    keepAspectRatio = aspectRatio > 0.2 and aspectRatio < 0.7\n",
    "    keepHeighRatio = heightRatio > 0.25 and heightRatio < 0.5\n",
    "    \n",
    "    # remove small contour\n",
    "    if area < 5.0 or w < 3.0 or h < 3.0 :\n",
    "        continue\n",
    "        \n",
    "    if  keepAspectRatio and keepHeighRatio and Parent == -1 and Next != -1 and Previous != -1:\n",
    "        roi = img[y:y+h, x:x+w].copy()\n",
    "        cv2.rectangle(img, (x, y), (x+w, y+h), (255, 0, 255), 2)\n",
    "\n",
    "        cv2.imshow(\"Cropped Photo - %d\" % i, roi)\n",
    "        cv2.imshow(\"Binary\", binary)\n",
    "        cv2.imshow(\"Detected Photo\", img)        \n",
    "cv2.waitKey(0)\n",
    "cv2.destroyAllWindows()"
   ]
  },
  {
   "cell_type": "markdown",
   "metadata": {},
   "source": [
    "## Sumber \n",
    "\n",
    "- [tutorial_basic_geometric_drawing](https://docs.opencv.org/master/d3/d96/tutorial_basic_geometric_drawing.html)\n",
    "- [tutorial_random_generator_and_text](https://docs.opencv.org/master/df/d61/tutorial_random_generator_and_text.html)\n",
    "- [tutorial_find_contours](https://docs.opencv.org/master/df/d0d/tutorial_find_contours.html)\n",
    "- [tutorial_py_contour_features](https://docs.opencv.org/master/dd/d49/tutorial_py_contour_features.html)\n",
    "- [tutorial_py_contours_hierarchy](https://docs.opencv.org/master/d9/d8b/tutorial_py_contours_hierarchy.html)"
   ]
  }
 ],
 "metadata": {
  "kernelspec": {
   "display_name": "Python [conda env:opencv_env]",
   "language": "python",
   "name": "conda-env-opencv_env-py"
  },
  "language_info": {
   "codemirror_mode": {
    "name": "ipython",
    "version": 3
   },
   "file_extension": ".py",
   "mimetype": "text/x-python",
   "name": "python",
   "nbconvert_exporter": "python",
   "pygments_lexer": "ipython3",
   "version": "3.8.6"
  }
 },
 "nbformat": 4,
 "nbformat_minor": 4
}
