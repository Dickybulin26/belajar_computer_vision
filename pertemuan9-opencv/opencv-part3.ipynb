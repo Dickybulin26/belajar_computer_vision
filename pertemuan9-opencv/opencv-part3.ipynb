{
 "cells": [
  {
   "attachments": {},
   "cell_type": "markdown",
   "metadata": {},
   "source": [
    "# **BELAJAR COMPUTER VISION - OpenCV Part 3**"
   ]
  },
  {
   "attachments": {},
   "cell_type": "markdown",
   "metadata": {},
   "source": [
    "- Image Smoothing\n",
    "- Image Binarization\n",
    "- Edge Detection"
   ]
  },
  {
   "attachments": {},
   "cell_type": "markdown",
   "metadata": {},
   "source": [
    "## Image Smoothing\n",
    "\n",
    "- `cv2.blur()`\n",
    "- `cv2.GaussianBlur()`\n",
    "- `cv2.medianBlur()`\n",
    "- `cv2.bilateralFilter()`"
   ]
  },
  {
   "attachments": {},
   "cell_type": "markdown",
   "metadata": {},
   "source": [
    "- Smoothing, also called blurring, is a simple and frequently used image processing operation.\n",
    "- In this part we will focus on smoothing in order to **reduce noise**.\n",
    "- To perform a smoothing operation we will apply a **filter** to our image.\n",
    "- The most common type of filters are **linear**, \\\n",
    "\\\n",
    "$g(i, j) = \\sum_{k,l} f(i+k, j+l)h(k,l)$ \\\n",
    "\\\n",
    "dimana, \\\n",
    "$h(k,l)$ merupakan *kernel*, \\\n",
    "dan $g(i,j)$ merupakan pixel hasil linear filter .\n",
    "\n",
    "![](https://github.com/Muhammad-Yunus/Belajar-Computer-Vision/blob/master/09.%20OpenCV%20-%20Part%203/resource/blur.gif?raw=true)"
   ]
  },
  {
   "cell_type": "code",
   "execution_count": 1,
   "metadata": {},
   "outputs": [
    {
     "data": {
      "text/plain": [
       "['e:\\\\BELAJAR-PEMROGRAMAN\\\\Dicky_X_RPL_B\\\\CODING\\\\belajar_computer_vision\\\\belajar_computer_vision\\\\pertemuan9-opencv',\n",
       " 'c:\\\\Users\\\\Dicky\\\\AppData\\\\Local\\\\Programs\\\\Python\\\\Python310\\\\python310.zip',\n",
       " 'c:\\\\Users\\\\Dicky\\\\AppData\\\\Local\\\\Programs\\\\Python\\\\Python310\\\\DLLs',\n",
       " 'c:\\\\Users\\\\Dicky\\\\AppData\\\\Local\\\\Programs\\\\Python\\\\Python310\\\\lib',\n",
       " 'c:\\\\Users\\\\Dicky\\\\AppData\\\\Local\\\\Programs\\\\Python\\\\Python310',\n",
       " '',\n",
       " 'C:\\\\Users\\\\Dicky\\\\AppData\\\\Roaming\\\\Python\\\\Python310\\\\site-packages',\n",
       " 'C:\\\\Users\\\\Dicky\\\\AppData\\\\Roaming\\\\Python\\\\Python310\\\\site-packages\\\\win32',\n",
       " 'C:\\\\Users\\\\Dicky\\\\AppData\\\\Roaming\\\\Python\\\\Python310\\\\site-packages\\\\win32\\\\lib',\n",
       " 'C:\\\\Users\\\\Dicky\\\\AppData\\\\Roaming\\\\Python\\\\Python310\\\\site-packages\\\\Pythonwin',\n",
       " 'c:\\\\Users\\\\Dicky\\\\AppData\\\\Local\\\\Programs\\\\Python\\\\Python310\\\\lib\\\\site-packages']"
      ]
     },
     "execution_count": 1,
     "metadata": {},
     "output_type": "execute_result"
    }
   ],
   "source": [
    "%matplotlib inline\n",
    "import cv2\n",
    "import numpy as np\n",
    "import sys\n",
    "import matplotlib.pyplot as plt\n",
    "import os\n",
    "\n",
    "sys.path"
   ]
  },
  {
   "attachments": {},
   "cell_type": "markdown",
   "metadata": {},
   "source": [
    "### Normalized Box Filter (`cv2.blur()`)\n",
    "\n",
    "- Output pixel dari `cv2.blur` merupakan *mean* dari kernel *neighbour*-nya. \n",
    "- Kernel yang digunakan sebagai berikut :\n",
    "\n",
    "$K = \\dfrac{1}{K_{width} \\cdot K_{height}} \\begin{bmatrix} 1 & 1 & 1 & ... & 1 \\\\ 1 & 1 & 1 & ... & 1 \\\\ . & . & . & ... & 1 \\\\ . & . & . & ... & 1 \\\\ 1 & 1 & 1 & ... & 1 \\end{bmatrix}$\n",
    "\n",
    "- Menggunakan method `cv2.blur(img, ksize, anchor)` \n",
    "- dimana :\n",
    "    - `img` : input image\n",
    "    - `ksize` : kernel size, contoh (5,5)\n",
    "    - `anchor` : lokasi titik pixel yang dievaluasi terhadap *neighbour*-nya, jika negative, maka titik nya berada di pusat kernel."
   ]
  },
  {
   "cell_type": "code",
   "execution_count": 12,
   "metadata": {},
   "outputs": [],
   "source": [
    "img = cv2.imread('noisy_mri.jpg')\n",
    "\n",
    "blur = cv2.blur(img, (5,5), (-1, -1))\n",
    "\n",
    "cv2.imshow('Original Image', img)\n",
    "cv2.imshow('Blur Image', blur)\n",
    "cv2.waitKey(0)\n",
    "cv2.destroyAllWindows()"
   ]
  },
  {
   "attachments": {},
   "cell_type": "markdown",
   "metadata": {},
   "source": [
    "- Atur Kernel Size Menggunakan Trackbar"
   ]
  },
  {
   "cell_type": "code",
   "execution_count": 13,
   "metadata": {},
   "outputs": [],
   "source": [
    "img = cv2.imread('noisy_mri.jpg')\n",
    "\n",
    "max_value = 10\n",
    "default_value = 5\n",
    "\n",
    "title_window = \"Blur Image\"\n",
    "\n",
    "def trackbar(val):\n",
    "    if val > 0:\n",
    "        blur = cv2.blur(img, (val,val), (-1,-1))\n",
    "        cv2.imshow(title_window, blur)\n",
    "\n",
    "cv2.namedWindow(title_window)\n",
    "cv2.createTrackbar('kernel', title_window, default_value, max_value, trackbar)\n",
    "\n",
    "trackbar(default_value)\n",
    "cv2.waitKey(0)\n",
    "cv2.destroyAllWindows()"
   ]
  },
  {
   "attachments": {},
   "cell_type": "markdown",
   "metadata": {},
   "source": [
    "### Gaussian Filter (`cv2.GaussianBlur()`)\n",
    "\n",
    "\n",
    "![](https://github.com/Muhammad-Yunus/Belajar-Computer-Vision/blob/master/09.%20OpenCV%20-%20Part%203/resource/gaussion_dist.jpg?raw=true)\n",
    "- Probably the most useful filter (although not the fastest). \n",
    "- Gaussian filtering is done by convolving each point in the input array with a Gaussian kernel and then summing them all to produce the output array.\n",
    "- 2D Gaussian can be represented as :\n",
    "\n",
    "$G_{0}(x, y) = A e^{ \\dfrac{ -(x - \\mu_{x})^{2} }{ 2\\sigma^{2}_{x} } + \\dfrac{ -(y - \\mu_{y})^{2} }{ 2\\sigma^{2}_{y} } }$\n",
    "\n",
    "- where $μ$ is the mean (the peak) and $σ2$ represents the variance (per each of the variables $x$ and $y$)\n",
    "\n",
    "- Menggunakan method `cv2.GaussianBlur(img, ksize, sigmaX, sigmaY)` \n",
    "- dimana :\n",
    "    - `img` : input image\n",
    "    - `ksize(w,h)` : kernel size, $w$ and $h$ have to be odd and positive numbers otherwise the siz\n",
    "    - `sigmaX` : std for *x*, jika di set 0, maka $\\sigma_{x}$ dihitung menggunakan kernel size,\n",
    "    - `sigmaY` : std for *y*, jika di set 0, maka $\\sigma_{x}$ dihitung menggunakan kernel size,"
   ]
  },
  {
   "cell_type": "code",
   "execution_count": 18,
   "metadata": {},
   "outputs": [],
   "source": [
    "img = cv2.imread('noisy_mri.jpg')\n",
    "\n",
    "blur = cv2.GaussianBlur(img, (9,9), 0,0)\n",
    "\n",
    "cv2.imshow('Original Image', img)\n",
    "cv2.imshow('Blur Image', blur)\n",
    "cv2.waitKey(0)\n",
    "cv2.destroyAllWindows()"
   ]
  },
  {
   "attachments": {},
   "cell_type": "markdown",
   "metadata": {},
   "source": [
    "- Atur Kernel Size Menggunakan Trackbar"
   ]
  },
  {
   "cell_type": "code",
   "execution_count": 27,
   "metadata": {},
   "outputs": [],
   "source": [
    "img = cv2.imread('noisy_mri.jpg')\n",
    "\n",
    "max_value = 10\n",
    "default_value = 5\n",
    "\n",
    "title_window = \"Gaussian Blur Image\"\n",
    "\n",
    "def trackbar(val):\n",
    "    if val > 0 and val % 2 == 1:\n",
    "        #* fileter value > 0 and harus ganjil\n",
    "        blur = cv2.GaussianBlur(img, (val,val), 0,0)\n",
    "        cv2.imshow(title_window, blur)\n",
    "\n",
    "cv2.namedWindow(title_window)\n",
    "cv2.createTrackbar('kernel', title_window, default_value, max_value, trackbar)\n",
    "\n",
    "trackbar(default_value)\n",
    "cv2.waitKey(0)\n",
    "cv2.destroyAllWindows()"
   ]
  },
  {
   "attachments": {},
   "cell_type": "markdown",
   "metadata": {},
   "source": [
    "- menampilkan cv2.blur dan cv2.GaussianBlur() dalam 1 window"
   ]
  },
  {
   "cell_type": "code",
   "execution_count": 28,
   "metadata": {},
   "outputs": [],
   "source": [
    "img = cv2.imread('noisy_mri.jpg')\n",
    "# img = cv2.resize(img, (0,0), fx=0.5, fy=0.5)\n",
    "h, w, c = img.shape\n",
    "\n",
    "max_value = 10\n",
    "default_value = 5\n",
    "\n",
    "title_window = \"Gaussian Blur Image\"\n",
    "\n",
    "def trackbar(val):\n",
    "    if val > 0 and val % 2 == 1:\n",
    "        #* fileter value > 0 and harus ganjil\n",
    "        blur1 = cv2.GaussianBlur(img, (val,val), 0,0)\n",
    "        blur2 = cv2.blur(img, (val,val), (-1,-1))\n",
    "\n",
    "        frame = np.zeros((h,w*2, c)).astype(np.uint8)\n",
    "\n",
    "        frame[0:h, 0:w] = blur2\n",
    "        frame[0:h, w:2*w] = blur1\n",
    "        cv2.imshow(title_window, frame)\n",
    "\n",
    "cv2.namedWindow(title_window)\n",
    "cv2.createTrackbar('kernel', title_window, default_value, max_value, trackbar)\n",
    "\n",
    "trackbar(default_value)\n",
    "cv2.waitKey(0)\n",
    "cv2.destroyAllWindows()"
   ]
  },
  {
   "cell_type": "code",
   "execution_count": 34,
   "metadata": {},
   "outputs": [],
   "source": [
    "img = cv2.imread('noisy_mri.jpg')\n",
    "img = cv2.resize(img, (0,0), fx=0.5, fy=0.5)\n",
    "h, w, c = img.shape\n",
    "\n",
    "max_value = 10\n",
    "default_value = 5\n",
    "\n",
    "title_window = \"Gaussian Blur Image\"\n",
    "\n",
    "def trackbar(val):\n",
    "    if val > 0 and val % 2 == 1:\n",
    "        #* fileter value > 0 and harus ganjil\n",
    "        blur1 = cv2.GaussianBlur(img, (val,val), 0,0)\n",
    "        blur2 = cv2.blur(img, (val,val), (-1,-1))\n",
    "\n",
    "        frame = np.zeros((h*2,w, c)).astype(np.uint8)\n",
    "\n",
    "        frame[0:h, 0:w] = blur2\n",
    "        frame[h:h*2, 0:w] = blur1\n",
    "        cv2.imshow(title_window, frame)\n",
    "\n",
    "cv2.namedWindow(title_window)\n",
    "cv2.createTrackbar('kernel', title_window, default_value, max_value, trackbar)\n",
    "\n",
    "trackbar(default_value)\n",
    "cv2.waitKey(0)\n",
    "cv2.destroyAllWindows()"
   ]
  },
  {
   "attachments": {},
   "cell_type": "markdown",
   "metadata": {},
   "source": [
    "___\n",
    "## Image Binarization\n",
    "\n",
    "#### Simple Thresholding\n",
    "- Image Binarization adalah proses membuat sebuah gambar menjadi hitam putih (image hanya memiliki nilai pixel 0 atau 255) dengan menerapkan batas threshold tertentu. \n",
    "    \n",
    "- Menggunakan method `cv2.threshold(img, threshold_value, max_value, threshold_type)`\n",
    "- Untuk :\n",
    "    - `img` : input image\n",
    "    - `threshold_value`: The thresh value with respect to which the thresholding operation is made\n",
    "    - `max_value`: The value used with the Binary thresholding operations (to set the chosen pixels)\n",
    "    - `threshold_type`: One of the 5 thresholding operations. \n",
    "        - `cv2.THRESH_BINARY`\n",
    "        - `cv2.THRESH_BINARY_INV`\n",
    "        - `cv2.THRESH_TRUNC`\n",
    "        - `cv2.THRESH_TOZERO`\n",
    "        - `cv2.THRESH_TOZERO_INV`\n",
    "    \n",
    "    \n",
    "- Ilustrasi : \\\n",
    "![](https://github.com/Muhammad-Yunus/Belajar-Computer-Vision/blob/master/09.%20OpenCV%20-%20Part%203/resource/thresh.png?raw=true)\n"
   ]
  },
  {
   "cell_type": "code",
   "execution_count": 35,
   "metadata": {},
   "outputs": [],
   "source": [
    "img = cv2.imread('noisy_mri.jpg')\n",
    "\n",
    "#* convert to thresholding \n",
    "img = cv2.cvtColor(img, cv2.COLOR_BGR2GRAY)\n",
    "\n",
    "#* apply thresholding\n",
    "#* cv2.thresholding (<image>, threshold_value, max_value, threshold method)\n",
    "ret1, thres_img1 = cv2.threshold(img, 230, 255, cv2.THRESH_BINARY)\n",
    "ret2, thres_img2 = cv2.threshold(img, 230, 255, cv2.THRESH_BINARY_INV)\n",
    "ret3, thres_img3 = cv2.threshold(img, 230, 255, cv2.THRESH_TRUNC)\n",
    "ret4, thres_img4 = cv2.threshold(img, 230, 255, cv2.THRESH_TOZERO)\n",
    "ret5, thres_img5 = cv2.threshold(img, 230, 255, cv2.THRESH_TOZERO_INV)\n",
    "\n",
    "#* show image\n",
    "cv2.imshow(\"Original Image\", img)\n",
    "cv2.imshow(\"Binary Image\", thres_img1)\n",
    "cv2.imshow(\"Binary Inv Image\", thres_img2)\n",
    "cv2.imshow(\"Trunc Image\", thres_img3)\n",
    "cv2.imshow(\"To Zero  Image\", thres_img4)\n",
    "cv2.imshow(\"To Zero Inv Image\", thres_img5)\n",
    "\n",
    "cv2.waitKey(0)\n",
    "cv2.destroyAllWindows()"
   ]
  },
  {
   "cell_type": "code",
   "execution_count": null,
   "metadata": {},
   "outputs": [],
   "source": []
  },
  {
   "attachments": {},
   "cell_type": "markdown",
   "metadata": {},
   "source": [
    "- menambahkan trackbar untuk control val threshold"
   ]
  },
  {
   "cell_type": "code",
   "execution_count": 37,
   "metadata": {},
   "outputs": [],
   "source": [
    "img = cv2.imread('noisy_mri.jpg')\n",
    "\n",
    "#* convert to thresholding \n",
    "img = cv2.cvtColor(img, cv2.COLOR_BGR2GRAY)\n",
    "\n",
    "title_window = 'trackbar'\n",
    "\n",
    "max_value = 255\n",
    "default_value = 177\n",
    "\n",
    "#* apply thresholding\n",
    "#* cv2.thresholding (<image>, threshold_value, max_value, threshold method)\n",
    "def trackbar(val):\n",
    "    ret1, thres_img1 = cv2.threshold(img, val, max_value, cv2.THRESH_BINARY)\n",
    "    ret2, thres_img2 = cv2.threshold(img, val, max_value, cv2.THRESH_BINARY_INV)\n",
    "    ret3, thres_img3 = cv2.threshold(img, val, max_value, cv2.THRESH_TRUNC)\n",
    "    ret4, thres_img4 = cv2.threshold(img, val, max_value, cv2.THRESH_TOZERO)\n",
    "    ret5, thres_img5 = cv2.threshold(img, val, max_value, cv2.THRESH_TOZERO_INV)\n",
    "\n",
    "    #* show image\n",
    "    cv2.imshow(\"Original Image\", img)\n",
    "    cv2.imshow(\"Binary Image\", thres_img1)\n",
    "    cv2.imshow(\"Binary Inv Image\", thres_img2)\n",
    "    cv2.imshow(\"Trunc Image\", thres_img3)\n",
    "    cv2.imshow(\"To Zero  Image\", thres_img4)\n",
    "    cv2.imshow(\"To Zero Inv Image\", thres_img5)\n",
    "\n",
    "cv2.namedWindow(title_window)\n",
    "cv2.createTrackbar('threshold', title_window, default_value, max_value, trackbar)\n",
    "\n",
    "trackbar(default_value)\n",
    "cv2.waitKey(0)\n",
    "cv2.destroyAllWindows()"
   ]
  },
  {
   "attachments": {},
   "cell_type": "markdown",
   "metadata": {},
   "source": [
    "- gabungkan kedalam 1 frame"
   ]
  },
  {
   "cell_type": "code",
   "execution_count": 38,
   "metadata": {},
   "outputs": [],
   "source": [
    "max_value = 255\n",
    "default_value = 177\n",
    "\n",
    "title_window = 'Simple Thresholding'\n",
    "\n",
    "def trackbar(val):\n",
    "    ret1, thres_img1 = cv2.threshold(img, val, max_value, cv2.THRESH_BINARY)\n",
    "\n",
    "    frame = np.zeros((h, w*2)).astype(np.uint8)\n",
    "\n",
    "    frame[0:h, 0:w] = img\n",
    "    frame[0:h, w:w*2] = thres_img1\n",
    "\n",
    "    cv2.imshow(title_window, frame)\n",
    "\n",
    "img = cv2.imread('number_plate.jpg')\n",
    "h, w, c = img.shape\n",
    "\n",
    "img = cv2.cvtColor(img, cv2.COLOR_BGR2GRAY)\n",
    "\n",
    "cv2.namedWindow(title_window)\n",
    "cv2.createTrackbar('threshold', title_window, default_value, max_value, trackbar)\n",
    "\n",
    "trackbar(default_value)\n",
    "cv2.waitKey(0)\n",
    "cv2.destroyAllWindows()"
   ]
  },
  {
   "attachments": {},
   "cell_type": "markdown",
   "metadata": {},
   "source": [
    "# [TASK]\n",
    "\n",
    "- buatlah threshlding menjadi 1 window sebagai berikut\n",
    "\n",
    "![](https://github.com/Muhammad-Yunus/Belajar-Computer-Vision/blob/master/09.%20OpenCV%20-%20Part%203/resource/threshold.gif?raw=true)"
   ]
  },
  {
   "cell_type": "code",
   "execution_count": 39,
   "metadata": {},
   "outputs": [],
   "source": [
    "\n",
    "#* --jawaban--\n",
    "\n"
   ]
  },
  {
   "cell_type": "code",
   "execution_count": null,
   "metadata": {},
   "outputs": [],
   "source": []
  },
  {
   "attachments": {},
   "cell_type": "markdown",
   "metadata": {},
   "source": [
    "### Otsu’s Thresholding\n",
    "\n",
    "- Jika kita lihat teknik threshold diatas memerlukan user untuk set nilai threshold. \n",
    "- Hal ini dapat merepotkan jika kita memiliki gambar yang tidak seragam itensitas warna nya, dll. \n",
    "- Sehingga munculah metode yang dapat menentukan nilai optimal untuk threshol **secara otomatis** yang dinamakan **Otsu’s Thresholding**.\n",
    "\n",
    "<img src=\"https://github.com/Muhammad-Yunus/Belajar-Computer-Vision/blob/master/09.%20OpenCV%20-%20Part%203/resource/otsu.png?raw=true\" style=\"width:600px;\"></img>\n",
    "\n",
    "<img src=\"https://github.com/Muhammad-Yunus/Belajar-Computer-Vision/blob/master/09.%20OpenCV%20-%20Part%203/resource/otsu_graph.gif?raw=true\" style=\"width:300px;\"></img>"
   ]
  },
  {
   "cell_type": "code",
   "execution_count": 49,
   "metadata": {},
   "outputs": [],
   "source": [
    "img = cv2.imread('noisy_mri.jpg')\n",
    "\n",
    "gray = cv2.cvtColor(img, cv2.COLOR_BGR2GRAY)\n",
    "\n",
    "#* global thresholding\n",
    "ret1, th1 = cv2.threshold(gray, 127, 255, cv2.THRESH_BINARY)\n",
    "\n",
    "#* Otsu thresholding\n",
    "ret2, th2 = cv2.threshold(gray,127,255,cv2.THRESH_TOZERO_INV + cv2.THRESH_OTSU)\n",
    "\n",
    "#* Otsu thresholding after Gaussian filtering\n",
    "blur = cv2.GaussianBlur(gray, (5,5),  0)\n",
    "ret3, th3 = cv2.threshold(blur, 0,  255, cv2.THRESH_TOZERO_INV + cv2.THRESH_OTSU)\n",
    "\n",
    "cv2.imshow('Original Image', img)\n",
    "cv2.imshow('Global Image', th1)\n",
    "cv2.imshow('Otsu Image', th2)\n",
    "cv2.imshow('Otsu after Gaussian filtering Image', th3)\n",
    "\n",
    "cv2.waitKey(0)\n",
    "cv2.destroyAllWindows()"
   ]
  },
  {
   "cell_type": "code",
   "execution_count": 48,
   "metadata": {},
   "outputs": [
    {
     "name": "stdout",
     "output_type": "stream",
     "text": [
      "127.0 (537, 537)\n",
      "135.0 (537, 537)\n"
     ]
    }
   ],
   "source": [
    "print(ret1 ,th1.shape)\n",
    "print(ret2 ,th2.shape)"
   ]
  },
  {
   "cell_type": "code",
   "execution_count": 52,
   "metadata": {},
   "outputs": [],
   "source": [
    "img = cv2.imread('number_plate.jpg')\n",
    "gray = cv2.cvtColor(img, cv2.COLOR_BGR2GRAY)\n",
    "\n",
    "max_value = 255\n",
    "default_value = 127\n",
    "\n",
    "title_window = 'trackbar'\n",
    "\n",
    "def trackbar(val):\n",
    "\n",
    "    #* global thresholding\n",
    "    ret1, th1 = cv2.threshold(gray, val, max_value, cv2.THRESH_BINARY)\n",
    "\n",
    "    #* Otsu thresholding\n",
    "    ret2, th2 = cv2.threshold(gray,val,max_value,cv2.THRESH_TOZERO_INV + cv2.THRESH_OTSU)\n",
    "\n",
    "    #* Otsu thresholding after Gaussian filtering\n",
    "    blur = cv2.GaussianBlur(gray, (3,3),  0)\n",
    "    ret3, th3 = cv2.threshold(blur, val,  max_value, cv2.THRESH_TOZERO_INV + cv2.THRESH_OTSU)\n",
    "\n",
    "    cv2.imshow('Original Image', img)\n",
    "    cv2.imshow('Global Image', th1)\n",
    "    cv2.imshow('Otsu Image', th2)\n",
    "    cv2.imshow('Otsu after Gaussian filtering Image', th3)\n",
    "\n",
    "cv2.namedWindow(title_window)\n",
    "cv2.createTrackbar('trackbar', title_window, default_value, max_value, trackbar)\n",
    "\n",
    "trackbar(default_value)\n",
    "cv2.waitKey(0)\n",
    "cv2.destroyAllWindows()"
   ]
  },
  {
   "attachments": {},
   "cell_type": "markdown",
   "metadata": {},
   "source": [
    "### Edge Detection (Canny Edge Detection)\n",
    "\n",
    "- Canny Edge detection merupakan algoritma edge detection paling populer. \n",
    "- Dapat digunakan untuk menjari batas-batas objek pada gambar.\n",
    "- menggunakan method `cv2.canny(img, threshMin, threshMax)`\n",
    "- Canny Edge detection diilustrasikan sebagai berikut,\n",
    "\n",
    "![](https://github.com/Muhammad-Yunus/Belajar-Computer-Vision/blob/master/09.%20OpenCV%20-%20Part%203/resource/canny.png?raw=true)"
   ]
  },
  {
   "cell_type": "code",
   "execution_count": null,
   "metadata": {},
   "outputs": [],
   "source": []
  },
  {
   "cell_type": "code",
   "execution_count": 57,
   "metadata": {},
   "outputs": [],
   "source": [
    "img = cv2.imread('blocks.png')\n",
    "\n",
    "gray = cv2.cvtColor(img, cv2.COLOR_BGR2GRAY)\n",
    "\n",
    "#* cv2.canny(<image>, min, max)\n",
    "edge = cv2.Canny(gray, 100, 250)\n",
    "\n",
    "cv2.imshow('Original Image', img)\n",
    "cv2.imshow('Edged Image', edge)\n",
    "\n",
    "cv2.waitKey(0)\n",
    "cv2.destroyAllWindows()"
   ]
  },
  {
   "attachments": {},
   "cell_type": "markdown",
   "metadata": {},
   "source": [
    "- Menggunkan trackbar untuk mengubah nilai `min`, `max` pada `cv2.canny()`\n"
   ]
  },
  {
   "cell_type": "code",
   "execution_count": 61,
   "metadata": {},
   "outputs": [],
   "source": [
    "img = cv2.imread('blocks.png')\n",
    "gray = cv2.cvtColor(img, cv2.COLOR_BGR2GRAY)\n",
    "\n",
    "max = 255\n",
    "min = 127\n",
    "\n",
    "current_max = 255\n",
    "current_min = 0\n",
    "\n",
    "title_window = 'Edge Detection'\n",
    "\n",
    "def trackbar_min(val):\n",
    "    global current_min\n",
    "    current_min = val\n",
    "    #* cv2.canny(<image>, min, max)\n",
    "    edge = cv2.Canny(gray, current_min, current_max)\n",
    "    cv2.imshow(title_window, edge)\n",
    "\n",
    "def trackbar_max(val):\n",
    "    global current_max\n",
    "    current_max = val\n",
    "    #* cv2.canny(<image>, min, max)\n",
    "    edge = cv2.Canny(gray, current_min, current_max)\n",
    "    cv2.imshow(title_window, edge)\n",
    "\n",
    "\n",
    "cv2.namedWindow(title_window)\n",
    "cv2.createTrackbar('min', title_window, min, max, trackbar_min)\n",
    "cv2.createTrackbar('max', title_window, min, max, trackbar_max)\n",
    "\n",
    "trackbar_min(0)\n",
    "cv2.imshow('Original Image', img)\n",
    "cv2.waitKey(0)\n",
    "cv2.destroyAllWindows()"
   ]
  },
  {
   "attachments": {},
   "cell_type": "markdown",
   "metadata": {},
   "source": [
    "# [Task] \n",
    "- Apply **Binary thresholding** sebelum diterapkan pada **edge detector**\n",
    "- Tambahkan trackbar untuk mengatur threshold value Binary Thresholding\n",
    "- set min dan max edge detector ke 127 dan 200 (`cv2.Canny(binary_img, 127, 200)`)\n",
    "\n",
    "\n",
    "<img src=\"https://github.com/Muhammad-Yunus/Belajar-Computer-Vision/blob/master/09.%20OpenCV%20-%20Part%203/resource/threshold_task.gif?raw=true\" style=\"width:300px;\"></img>"
   ]
  },
  {
   "cell_type": "code",
   "execution_count": null,
   "metadata": {},
   "outputs": [],
   "source": [
    "\n",
    "#* --jawaban-- \n",
    "\n"
   ]
  }
 ],
 "metadata": {
  "kernelspec": {
   "display_name": "Python 3",
   "language": "python",
   "name": "python3"
  },
  "language_info": {
   "codemirror_mode": {
    "name": "ipython",
    "version": 3
   },
   "file_extension": ".py",
   "mimetype": "text/x-python",
   "name": "python",
   "nbconvert_exporter": "python",
   "pygments_lexer": "ipython3",
   "version": "3.10.9"
  },
  "orig_nbformat": 4
 },
 "nbformat": 4,
 "nbformat_minor": 2
}
