{
 "cells": [
  {
   "cell_type": "markdown",
   "metadata": {},
   "source": [
    "## OpenCV -Part 3\n",
    "\n",
    "- Image Smoothing \n",
    "- Image Binarization \n",
    "- Edge Detection"
   ]
  },
  {
   "cell_type": "markdown",
   "metadata": {},
   "source": [
    "## Image Smoothing\n",
    "\n",
    "- `cv2.blur()`\n",
    "- `cv2.GaussianBlur()`\n",
    "- `cv2.medianBlur()`\n",
    "- `cv2.bilateralFilter()`"
   ]
  },
  {
   "cell_type": "markdown",
   "metadata": {},
   "source": [
    "- Smoothing, also called blurring, is a simple and frequently used image processing operation.\n",
    "- In this part we will focus on smoothing in order to **reduce noise**.\n",
    "- To perform a smoothing operation we will apply a **filter** to our image.\n",
    "- The most common type of filters are **linear**, \\\n",
    "\\\n",
    "$g(i, j) = \\sum_{k,l} f(i+k, j+l)h(k,l)$ \\\n",
    "\\\n",
    "dimana, \\\n",
    "$h(k,l)$ merupakan *kernel*, \\\n",
    "dan $g(i,j)$ merupakan pixel hasil linear filter .\n",
    "\n",
    "![](resource/blur.gif)"
   ]
  },
  {
   "cell_type": "code",
   "execution_count": 1,
   "metadata": {},
   "outputs": [],
   "source": [
    "import cv2"
   ]
  },
  {
   "cell_type": "markdown",
   "metadata": {},
   "source": [
    "### Normalized Box Filter (`cv2.blur()`)\n",
    "\n",
    "- Output pixel dari `cv2.blur` merupakan *mean* dari kernel *neighbour*-nya. \n",
    "- Kernel yang digunakan sebagai berikut :\n",
    "\n",
    "$K = \\dfrac{1}{K_{width} \\cdot K_{height}} \\begin{bmatrix} 1 & 1 & 1 & ... & 1 \\\\ 1 & 1 & 1 & ... & 1 \\\\ . & . & . & ... & 1 \\\\ . & . & . & ... & 1 \\\\ 1 & 1 & 1 & ... & 1 \\end{bmatrix}$\n",
    "\n",
    "- Menggunakan method `cv2.blur(img, ksize, anchor)` \n",
    "- dimana :\n",
    "    - `img` : input image\n",
    "    - `ksize` : kernel size, contoh (5,5)\n",
    "    - `anchor` : lokasi titik pixel yang dievaluasi terhadap *neighbour*-nya, jika negative, maka titik nya berada di pusat kernel."
   ]
  },
  {
   "cell_type": "code",
   "execution_count": 15,
   "metadata": {},
   "outputs": [],
   "source": [
    "img = cv2.imread('noisy_mri.jpg')\n",
    "\n",
    "blur = cv2.blur(img, (2,2), (-1, -1))\n",
    "\n",
    "cv2.imshow(\"Original Image\",img)\n",
    "cv2.imshow(\"Blur Image\", blur)\n",
    "cv2.waitKey(0)\n",
    "cv2.destroyAllWindows()"
   ]
  },
  {
   "cell_type": "markdown",
   "metadata": {},
   "source": [
    "- Atur Kernel Size Menggunakan Trackbar"
   ]
  },
  {
   "cell_type": "code",
   "execution_count": 17,
   "metadata": {},
   "outputs": [],
   "source": [
    "max_value = 10\n",
    "default_value = 5\n",
    "\n",
    "title_window = \"Blur Image\"\n",
    "\n",
    "def on_trackbar(val):\n",
    "    if val > 0 :\n",
    "        blur = cv2.blur(img, (val,val), (-1, -1))\n",
    "        cv2.imshow(title_window, blur)\n",
    "    \n",
    "\n",
    "img = cv2.imread('noisy_mri.jpg')\n",
    "\n",
    "cv2.namedWindow(title_window)\n",
    "cv2.createTrackbar('kernel', title_window , default_value, max_value, on_trackbar)\n",
    "\n",
    "on_trackbar(default_value)\n",
    "cv2.waitKey(0)\n",
    "cv2.destroyAllWindows()"
   ]
  },
  {
   "cell_type": "markdown",
   "metadata": {},
   "source": [
    "### Gaussian Filter (`cv2.GaussianBlur()`)\n",
    "\n",
    "\n",
    "![](resource/gaussion_dist.jpg)\n",
    "- Probably the most useful filter (although not the fastest). \n",
    "- Gaussian filtering is done by convolving each point in the input array with a Gaussian kernel and then summing them all to produce the output array.\n",
    "- 2D Gaussian can be represented as :\n",
    "\n",
    "$G_{0}(x, y) = A e^{ \\dfrac{ -(x - \\mu_{x})^{2} }{ 2\\sigma^{2}_{x} } + \\dfrac{ -(y - \\mu_{y})^{2} }{ 2\\sigma^{2}_{y} } }$\n",
    "\n",
    "- where $μ$ is the mean (the peak) and $σ2$ represents the variance (per each of the variables $x$ and $y$)\n",
    "\n",
    "- Menggunakan method `cv2.GaussianBlur(img, ksize, sigmaX, sigmaY)` \n",
    "- dimana :\n",
    "    - `img` : input image\n",
    "    - `ksize(w,h)` : kernel size, $w$ and $h$ have to be odd and positive numbers otherwise the siz\n",
    "    - `sigmaX` : std for *x*, jika di set 0, maka $\\sigma_{x}$ dihitung menggunakan kernel size,\n",
    "    - `sigmaY` : std for *y*, jika di set 0, maka $\\sigma_{x}$ dihitung menggunakan kernel size,"
   ]
  },
  {
   "cell_type": "code",
   "execution_count": 25,
   "metadata": {},
   "outputs": [],
   "source": [
    "img = cv2.imread('noisy_mri.jpg')\n",
    "\n",
    "blur = cv2.GaussianBlur(img, (3,3), 0, 0)\n",
    "\n",
    "cv2.imshow(\"Original Image\",img)\n",
    "cv2.imshow(\"Blur Image\", blur)\n",
    "cv2.waitKey(0)\n",
    "cv2.destroyAllWindows()"
   ]
  },
  {
   "cell_type": "markdown",
   "metadata": {},
   "source": [
    "- Atur Kernel Size Menggunakan Trackbar"
   ]
  },
  {
   "cell_type": "code",
   "execution_count": 36,
   "metadata": {},
   "outputs": [],
   "source": [
    "max_value = 10\n",
    "default_value = 5\n",
    "\n",
    "title_window = \"Gaussian Blur Image\"\n",
    "\n",
    "def on_trackbar(val):\n",
    "    # filter value > 0 and harus ganjil\n",
    "    if val > 0 and val % 2 == 1 :\n",
    "        blur = cv2.GaussianBlur(img,(val,val), 0, 0)\n",
    "        cv2.imshow(title_window, blur)\n",
    "    \n",
    "\n",
    "img = cv2.imread('noisy_mri.jpg')\n",
    "\n",
    "cv2.namedWindow(title_window)\n",
    "cv2.createTrackbar('kernel', title_window , default_value, max_value, on_trackbar)\n",
    "\n",
    "on_trackbar(default_value)\n",
    "cv2.waitKey(0)\n",
    "cv2.destroyAllWindows()"
   ]
  },
  {
   "cell_type": "markdown",
   "metadata": {},
   "source": [
    "- menampilkan cv2.blur dan cv2.GaussianBlur() dalam 1 window"
   ]
  },
  {
   "cell_type": "code",
   "execution_count": 37,
   "metadata": {},
   "outputs": [],
   "source": [
    "max_value = 10\n",
    "default_value = 5\n",
    "\n",
    "title_window = \"Gaussian Blur Image\"\n",
    "\n",
    "def on_trackbar(val):\n",
    "    # filter value > 0 and odd number\n",
    "    if val > 0 and val % 2 == 1 :\n",
    "        blur1 = cv2.blur(img,(val,val), (-1, -1))\n",
    "        blur2 = cv2.GaussianBlur(img,(val,val), 0, 0)\n",
    "        \n",
    "        frame = np.zeros((h, w*2, c)).astype(np.uint8)\n",
    "\n",
    "        frame[0:h, 0:w] = blur1\n",
    "        frame[0:h, w:2*w] = blur2\n",
    "        cv2.imshow(title_window, frame)\n",
    "    \n",
    "\n",
    "img = cv2.imread('noisy_mri.jpg')\n",
    "h, w, c = img.shape\n",
    "\n",
    "cv2.namedWindow(title_window)\n",
    "cv2.createTrackbar('kernel', title_window , default_value, max_value, on_trackbar)\n",
    "\n",
    "on_trackbar(default_value)\n",
    "cv2.waitKey(0)\n",
    "cv2.destroyAllWindows()"
   ]
  },
  {
   "cell_type": "code",
   "execution_count": null,
   "metadata": {},
   "outputs": [],
   "source": []
  },
  {
   "cell_type": "code",
   "execution_count": null,
   "metadata": {},
   "outputs": [],
   "source": [
    "import numpy as np\n",
    "import cv2\n",
    "\n",
    "max_value = 10\n",
    "default_value = 5\n",
    "\n",
    "title_window = \"Gaussian Blur Image\"\n",
    "\n",
    "def on_trackbar(val):\n",
    "    # filter value > 0 and odd number\n",
    "    if val > 0 and val % 2 == 1 :\n",
    "        blur1 = cv2.blur(img,(val,val), (-1, -1))\n",
    "        blur2 = cv2.GaussianBlur(img,(val,val), 0, 0)\n",
    "        \n",
    "        frame = np.zeros((h*2, w, c)).astype(np.uint8)\n",
    "\n",
    "        frame[0:h, 0:w] = blur1\n",
    "        frame[h:2*h, 0:w] = blur2\n",
    "        cv2.imshow(title_window, frame)\n",
    "    \n",
    "\n",
    "img = cv2.imread('noisy_mri.jpg')\n",
    "img = cv2.resize(img, (0,0), fx=0.5, fy=0.5)\n",
    "h, w, c = img.shape\n",
    "\n",
    "cv2.namedWindow(title_window)\n",
    "cv2.createTrackbar('kernel', title_window , default_value, max_value, on_trackbar)\n",
    "\n",
    "on_trackbar(default_value)\n",
    "cv2.waitKey(0)\n",
    "cv2.destroyAllWindows()"
   ]
  },
  {
   "cell_type": "markdown",
   "metadata": {},
   "source": [
    "___\n",
    "## Image Binarization\n",
    "\n",
    "#### Simple Thresholding\n",
    "- Image Binarization adalah proses membuat sebuah gambar menjadi hitam putih (image hanya memiliki nilai pixel 0 atau 255) dengan menerapkan batas threshold tertentu. \n",
    "    \n",
    "- Menggunakan method `cv2.threshold(img, threshold_value, max_value, threshold_type)`\n",
    "- Untuk :\n",
    "    - `img` : input image\n",
    "    - `threshold_value`: The thresh value with respect to which the thresholding operation is made\n",
    "    - `max_value`: The value used with the Binary thresholding operations (to set the chosen pixels)\n",
    "    - `threshold_type`: One of the 5 thresholding operations. \n",
    "        - `cv2.THRESH_BINARY`\n",
    "        - `cv2.THRESH_BINARY_INV`\n",
    "        - `cv2.THRESH_TRUNC`\n",
    "        - `cv2.THRESH_TOZERO`\n",
    "        - `cv2.THRESH_TOZERO_INV`\n",
    "    \n",
    "    \n",
    "- Ilustrasi : \\\n",
    "![](resource/thresh.png)\n"
   ]
  },
  {
   "cell_type": "code",
   "execution_count": 47,
   "metadata": {},
   "outputs": [],
   "source": [
    "img = cv2.imread('noisy_mri.jpg')\n",
    "\n",
    "#convert to grayscale\n",
    "img = cv2.cvtColor(img, cv2.COLOR_BGR2GRAY)\n",
    "\n",
    "# apply thresholding \n",
    "# cv2.thresholding(<image>, threshold_value, max_value, threshold method)\n",
    "ret1, thresh1 = cv2.threshold(img, 230, 255, cv2.THRESH_BINARY)\n",
    "ret2, thresh2 = cv2.threshold(img, 230, 255, cv2.THRESH_BINARY_INV)\n",
    "ret3, thresh3 = cv2.threshold(img, 230, 255, cv2.THRESH_TRUNC)\n",
    "ret4, thresh4 = cv2.threshold(img, 230, 255, cv2.THRESH_TOZERO)\n",
    "ret5, thresh5 = cv2.threshold(img, 230, 255, cv2.THRESH_TOZERO_INV)\n",
    "\n",
    "#show image\n",
    "cv2.imshow(\"Original Image\",img)\n",
    "cv2.imshow(\"Thresholded Binary\", thresh1)\n",
    "cv2.imshow(\"Thresholded Binary Inv\", thresh2)\n",
    "cv2.imshow(\"Thresholded Trunc\", thresh3)\n",
    "cv2.imshow(\"Thresholded To Zero\", thresh4)\n",
    "cv2.imshow(\"Thresholded To Zero Inv\", thresh5)\n",
    "\n",
    "cv2.waitKey(0)\n",
    "cv2.destroyAllWindows()"
   ]
  },
  {
   "cell_type": "markdown",
   "metadata": {},
   "source": [
    "- menambahkan trackbar untuk contrl val threshold"
   ]
  },
  {
   "cell_type": "code",
   "execution_count": 50,
   "metadata": {},
   "outputs": [],
   "source": [
    "max_value = 255\n",
    "default_value = 127\n",
    "\n",
    "title_window = \"Trackbar\"\n",
    "\n",
    "def on_trackbar(val):\n",
    "    ret1, thresh1 = cv2.threshold(img, val, max_value, cv2.THRESH_BINARY)\n",
    "    ret2, thresh2 = cv2.threshold(img, val, max_value, cv2.THRESH_BINARY_INV)\n",
    "    ret3, thresh3 = cv2.threshold(img, val, max_value, cv2.THRESH_TRUNC)\n",
    "    ret4, thresh4 = cv2.threshold(img, val, max_value, cv2.THRESH_TOZERO)\n",
    "    ret5, thresh5 = cv2.threshold(img, val, max_value, cv2.THRESH_TOZERO_INV)\n",
    "\n",
    "    cv2.imshow(\"Original Image\",img)\n",
    "    cv2.imshow(\"Thresholded Binary\", thresh1)\n",
    "    cv2.imshow(\"Thresholded Binary Inv\", thresh2)\n",
    "    cv2.imshow(\"Thresholded Trunc\", thresh3)\n",
    "    cv2.imshow(\"Thresholded To Zero\", thresh4)\n",
    "    cv2.imshow(\"Thresholded To Zero Inv\", thresh5)\n",
    "\n",
    "\n",
    "img = cv2.imread('number_plate.jpg')\n",
    "#convert to grayscale\n",
    "img = cv2.cvtColor(img, cv2.COLOR_BGR2GRAY)\n",
    "\n",
    "cv2.namedWindow(title_window)\n",
    "cv2.createTrackbar('threshold', title_window , default_value, max_value, on_trackbar)\n",
    "\n",
    "on_trackbar(default_value)\n",
    "cv2.waitKey(0)\n",
    "cv2.destroyAllWindows()"
   ]
  },
  {
   "cell_type": "markdown",
   "metadata": {},
   "source": [
    "- combine dalam 1 frame"
   ]
  },
  {
   "cell_type": "code",
   "execution_count": 3,
   "metadata": {},
   "outputs": [],
   "source": [
    "import numpy as np\n",
    "\n",
    "max_value = 255\n",
    "default_value = 127\n",
    "\n",
    "title_window = \"Simple Thresholding\"\n",
    "\n",
    "def on_trackbar(val):\n",
    "    ret1, thresh1 = cv2.threshold(img, val, max_value, cv2.THRESH_BINARY)\n",
    "\n",
    "    \n",
    "    frame = np.zeros((h, w*2)).astype(np.uint8)\n",
    "\n",
    "    frame[0:h, 0:w] = img\n",
    "    frame[0:h, w:2*w] = thresh1\n",
    "\n",
    "    cv2.imshow(title_window, frame)\n",
    "\n",
    "\n",
    "img = cv2.imread('number_plate.jpg')\n",
    "h, w, c = img.shape\n",
    "\n",
    "#convert to grayscale\n",
    "img = cv2.cvtColor(img, cv2.COLOR_BGR2GRAY)\n",
    "\n",
    "cv2.namedWindow(title_window)\n",
    "cv2.createTrackbar('threshold', title_window , default_value, max_value, on_trackbar)\n",
    "\n",
    "on_trackbar(default_value)\n",
    "cv2.waitKey(0)\n",
    "cv2.destroyAllWindows()"
   ]
  },
  {
   "cell_type": "markdown",
   "metadata": {},
   "source": [
    "### Task\n",
    "\n",
    "- buatlah thresholding menjadi 1 window sebagai berikut\n",
    "![](resource/threshold.gif)"
   ]
  },
  {
   "cell_type": "code",
   "execution_count": 72,
   "metadata": {},
   "outputs": [],
   "source": [
    "# -------- Jawaban --------\n",
    "#\n",
    "#\n",
    "#\n",
    "#"
   ]
  },
  {
   "cell_type": "code",
   "execution_count": 5,
   "metadata": {},
   "outputs": [],
   "source": [
    "import numpy as np\n",
    "\n",
    "max_value = 255\n",
    "default_value = 127\n",
    "\n",
    "title_window = \"Simple Thresholding\"\n",
    "\n",
    "def on_trackbar(val):\n",
    "    ret1, thresh1 = cv2.threshold(img, val, max_value, cv2.THRESH_BINARY)\n",
    "    ret2, thresh2 = cv2.threshold(img, val, max_value, cv2.THRESH_BINARY_INV)\n",
    "    ret3, thresh3 = cv2.threshold(img, val, max_value, cv2.THRESH_TRUNC)\n",
    "    ret4, thresh4 = cv2.threshold(img, val, max_value, cv2.THRESH_TOZERO)\n",
    "    ret5, thresh5 = cv2.threshold(img, val, max_value, cv2.THRESH_TOZERO_INV)\n",
    "    \n",
    "    frame = np.zeros((h*2, w*3)).astype(np.uint8)\n",
    "\n",
    "    frame[0:h, 0:w] = img\n",
    "    frame[0:h, w:2*w] = thresh1\n",
    "    frame[0:h, 2*w:3*w] = thresh2\n",
    "    frame[h:2*h, 0:w] = thresh3\n",
    "    frame[h:2*h, w:2*w] = thresh4\n",
    "    frame[h:2*h, 2*w:3*w] = thresh5\n",
    "\n",
    "    cv2.imshow(title_window, frame)\n",
    "\n",
    "\n",
    "img = cv2.imread('number_plate.jpg')\n",
    "h, w, c = img.shape\n",
    "\n",
    "#convert to grayscale\n",
    "img = cv2.cvtColor(img, cv2.COLOR_BGR2GRAY)\n",
    "\n",
    "cv2.namedWindow(title_window)\n",
    "cv2.createTrackbar('threshold', title_window , default_value, max_value, on_trackbar)\n",
    "\n",
    "on_trackbar(default_value)\n",
    "cv2.waitKey(0)\n",
    "cv2.destroyAllWindows()"
   ]
  },
  {
   "cell_type": "markdown",
   "metadata": {},
   "source": [
    "### Otsu’s Thresholding\n",
    "\n",
    "- Jika kita lihat teknik threshold diatas memerlukan user untuk set nilai threshold. \n",
    "- Hal ini dapat merepotkan jika kita memiliki gambaryang tidak seragam itensitas warna nya, dll. \n",
    "- Sehingga munculah metode yang dapat menentukan nilai optimal untuk threshol **secara otomatis** yang dinamakan **Otsu’s Thresholding**.\n",
    "\n",
    "<img src=\"resource/otsu.png\" style=\"width:600px;\"></img>\n",
    "\n",
    "<img src=\"resource/otsu_graph.gif\" style=\"width:300px;\"></img>"
   ]
  },
  {
   "cell_type": "code",
   "execution_count": 62,
   "metadata": {},
   "outputs": [
    {
     "name": "stdout",
     "output_type": "stream",
     "text": [
      "135.0 (537, 537)\n"
     ]
    }
   ],
   "source": [
    "img = cv2.imread('noisy_mri.jpg')\n",
    "\n",
    "gray = cv2.cvtColor(img, cv2.COLOR_BGR2GRAY)\n",
    "\n",
    "# global thresholding\n",
    "ret1,th1 = cv2.threshold(gray,127,255,cv2.THRESH_BINARY)\n",
    "\n",
    "\n",
    "# Otsu's thresholding\n",
    "ret2,th2 = cv2.threshold(gray,0,255, cv2.THRESH_TOZERO_INV + cv2.THRESH_OTSU )\n",
    "print(ret2, th2.shape)\n",
    "\n",
    "# Otsu's thresholding after Gaussian filtering\n",
    "blur = cv2.GaussianBlur(gray,(5,5),0)\n",
    "ret3,th3 = cv2.threshold(blur,0,255, cv2.THRESH_TOZERO_INV + cv2.THRESH_OTSU)\n",
    "\n",
    "#show image\n",
    "cv2.imshow(\"Original Image\",img)\n",
    "cv2.imshow(\"Global Thresholding\", th1)\n",
    "cv2.imshow(\"Otsu's Thresholding\", th2)\n",
    "cv2.imshow(\"Otsu's Thresholding after Gaussian Filter\", th3)\n",
    "\n",
    "cv2.waitKey(0)\n",
    "cv2.destroyAllWindows()\n",
    "\n"
   ]
  },
  {
   "cell_type": "code",
   "execution_count": 64,
   "metadata": {},
   "outputs": [],
   "source": [
    "max_value = 255\n",
    "default_value = 127\n",
    "\n",
    "title_window = \"Trackbar\"\n",
    "\n",
    "def on_trackbar(val):\n",
    "    # global thresholding\n",
    "    ret1,th1 = cv2.threshold(gray, val, max_value,cv2.THRESH_BINARY)\n",
    "\n",
    "    # Otsu's thresholding\n",
    "    ret2,th2 = cv2.threshold(gray, val, max_value, cv2.THRESH_BINARY + cv2.THRESH_OTSU)\n",
    "\n",
    "    # Otsu's thresholding after Gaussian filtering\n",
    "    blur = cv2.GaussianBlur(gray, (3,3), 0, 0)\n",
    "    ret3,th3 = cv2.threshold(blur, val, max_value, cv2.THRESH_BINARY + cv2.THRESH_OTSU)\n",
    "\n",
    "    #show image\n",
    "    cv2.imshow(\"Original Image\",img)\n",
    "    cv2.imshow(\"Global Thresholding\", th1)\n",
    "    cv2.imshow(\"Otsu's Thresholding\", th2)\n",
    "    cv2.imshow(\"Otsu's Thresholding after Gaussian Filter\", th3)\n",
    "\n",
    "\n",
    "img = cv2.imread('number_plate.jpg')\n",
    "#convert to grayscale\n",
    "img = cv2.cvtColor(img, cv2.COLOR_BGR2GRAY)\n",
    "\n",
    "cv2.namedWindow(title_window)\n",
    "cv2.createTrackbar('threshold', title_window , default_value, max_value, on_trackbar)\n",
    "\n",
    "on_trackbar(default_value)\n",
    "cv2.waitKey(0)\n",
    "cv2.destroyAllWindows()"
   ]
  },
  {
   "cell_type": "markdown",
   "metadata": {},
   "source": [
    "___\n",
    "## Edge Detection (Canny Edge Detection)"
   ]
  },
  {
   "cell_type": "markdown",
   "metadata": {},
   "source": [
    "- Canny Edge detection merupakan algoritma edge detection paling populer. \n",
    "- Dapat digunakan untuk menjari batas-batas objek pada gambar.\n",
    "- menggunakan method `cv2.canny(img, threshMin, threshMax)`\n",
    "- Canny Edge detection diilustrasikan sebagai berikut,\n",
    "\n",
    "![](resource/canny.png)"
   ]
  },
  {
   "cell_type": "code",
   "execution_count": 71,
   "metadata": {},
   "outputs": [],
   "source": [
    "img = cv2.imread('blocks.jpg')\n",
    "\n",
    "gray = cv2.cvtColor(img, cv2.COLOR_BGR2GRAY)\n",
    "\n",
    "#cv2.canny(<image>, threshold_min, threshold_max)\n",
    "edged = cv2.Canny(gray, 100, 250)\n",
    "\n",
    "#show image \n",
    "cv2.imshow(\"Original Image\",img)\n",
    "cv2.imshow(\"Edged Image\", edged)\n",
    "\n",
    "cv2.waitKey(0)\n",
    "cv2.destroyAllWindows()\n"
   ]
  },
  {
   "cell_type": "markdown",
   "metadata": {},
   "source": [
    "- Menggunkan trackbar untuk mengubah nilai `min`, `max` pada `cv2.canny()`"
   ]
  },
  {
   "cell_type": "code",
   "execution_count": 73,
   "metadata": {},
   "outputs": [],
   "source": [
    "max_value = 255\n",
    "default_value = 127\n",
    "\n",
    "current_min = 0\n",
    "current_max = 255\n",
    "\n",
    "title_window = \"Edge Detection\"\n",
    "\n",
    "def on_trackbar_min(val):\n",
    "    global current_min\n",
    "    current_min = val\n",
    "    edged = cv2.Canny(gray, current_min, current_max)\n",
    "    cv2.imshow(title_window, edged)\n",
    "\n",
    "def on_trackbar_max(val):\n",
    "    global current_max\n",
    "    current_max = val\n",
    "    edged = cv2.Canny(gray, current_min, current_max)\n",
    "    cv2.imshow(title_window, edged)\n",
    "\n",
    "img = cv2.imread('blocks.jpg')\n",
    "gray = cv2.cvtColor(img, cv2.COLOR_BGR2GRAY)\n",
    "\n",
    "cv2.namedWindow(title_window)\n",
    "cv2.createTrackbar('min', title_window , default_value, max_value, on_trackbar_min)\n",
    "cv2.createTrackbar('max', title_window , default_value, max_value, on_trackbar_max)\n",
    "\n",
    "on_trackbar_min(0)\n",
    "cv2.imshow(\"Original Image\",img)\n",
    "cv2.waitKey(0)\n",
    "cv2.destroyAllWindows()"
   ]
  },
  {
   "cell_type": "markdown",
   "metadata": {},
   "source": [
    "### Task \n",
    "- Apply **Binary thresholding** sebelum diterapkan pada **edge detector**\n",
    "- Tambahkan trackbar untuk mengatur threshold value Binary Thresholding\n",
    "- set min dan max edge detector ke 127 dan 200 (`cv2.Canny(binary_img, 127, 200)`)\n",
    "\n",
    "\n",
    "<img src=\"resource/threshold_task.gif\" style=\"width:300px;\"></img>"
   ]
  },
  {
   "cell_type": "code",
   "execution_count": 93,
   "metadata": {},
   "outputs": [],
   "source": [
    "# ---- Jawaban -----\n",
    "#\n",
    "#\n",
    "#\n",
    "#"
   ]
  },
  {
   "cell_type": "code",
   "execution_count": null,
   "metadata": {},
   "outputs": [],
   "source": [
    "\n",
    "max_value = 255\n",
    "default_value = 127\n",
    "\n",
    "title_window = \"Edge Detection\"\n",
    "\n",
    "def on_trackbar_thresh(val):\n",
    "    \n",
    "    ret, binary_img = cv2.threshold(gray, val, 255, cv2.THRESH_BINARY)\n",
    "    edged = cv2.Canny(binary_img, 127, 200)\n",
    "    \n",
    "    h, w = binary_img.shape\n",
    "    frame = np.zeros((h*2, w)).astype(np.uint8)\n",
    "\n",
    "    frame[:h,:w] = binary_img\n",
    "    frame[h:2*h, :w] = edged\n",
    "    \n",
    "    cv2.imshow(title_window, frame)\n",
    "    \n",
    "img = cv2.imread('blocks.jpg')\n",
    "gray = cv2.cvtColor(img, cv2.COLOR_BGR2GRAY)\n",
    "\n",
    "cv2.namedWindow(title_window)\n",
    "cv2.createTrackbar('thresh', title_window , default_value, max_value, on_trackbar_thresh)\n",
    "\n",
    "on_trackbar_thresh(127)\n",
    "cv2.imshow(\"Original Image\", img)\n",
    "cv2.waitKey(0)\n",
    "cv2.destroyAllWindows()"
   ]
  },
  {
   "cell_type": "markdown",
   "metadata": {},
   "source": [
    "### Sumber :\n",
    "- [tutorial_gausian_median_blur_bilateral_filter](https://docs.opencv.org/master/dc/dd3/tutorial_gausian_median_blur_bilateral_filter.html)\n",
    "- [tutorial_threshold](https://docs.opencv.org/master/db/d8e/tutorial_threshold.html)\n",
    "- [tutorial_canny_detector](https://docs.opencv.org/master/da/d5c/tutorial_canny_detector.html)"
   ]
  },
  {
   "cell_type": "code",
   "execution_count": null,
   "metadata": {},
   "outputs": [],
   "source": []
  }
 ],
 "metadata": {
  "kernelspec": {
   "display_name": "Python 3",
   "language": "python",
   "name": "python3"
  },
  "language_info": {
   "codemirror_mode": {
    "name": "ipython",
    "version": 3
   },
   "file_extension": ".py",
   "mimetype": "text/x-python",
   "name": "python",
   "nbconvert_exporter": "python",
   "pygments_lexer": "ipython3",
   "version": "3.10.9"
  }
 },
 "nbformat": 4,
 "nbformat_minor": 4
}
