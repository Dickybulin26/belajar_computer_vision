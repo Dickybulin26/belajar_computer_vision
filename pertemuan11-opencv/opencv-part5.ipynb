{
 "cells": [
  {
   "attachments": {},
   "cell_type": "markdown",
   "metadata": {},
   "source": [
    "# **BELAJAR COMPUTER VISION - OpenCV Part 5**"
   ]
  },
  {
   "attachments": {},
   "cell_type": "markdown",
   "metadata": {},
   "source": [
    "## OpenCV - Part 5\n",
    "\n",
    "- Region Mask\n",
    "- Range Thresholding\n",
    "- Shape Detection (Hough Transform)"
   ]
  },
  {
   "cell_type": "code",
   "execution_count": 1,
   "metadata": {},
   "outputs": [
    {
     "data": {
      "text/plain": [
       "['e:\\\\BELAJAR-PEMROGRAMAN\\\\Dicky_X_RPL_B\\\\CODING\\\\belajar_computer_vision\\\\belajar_computer_vision\\\\pertemuan11-opencv',\n",
       " 'c:\\\\Users\\\\Dicky\\\\AppData\\\\Local\\\\Programs\\\\Python\\\\Python310\\\\python310.zip',\n",
       " 'c:\\\\Users\\\\Dicky\\\\AppData\\\\Local\\\\Programs\\\\Python\\\\Python310\\\\DLLs',\n",
       " 'c:\\\\Users\\\\Dicky\\\\AppData\\\\Local\\\\Programs\\\\Python\\\\Python310\\\\lib',\n",
       " 'c:\\\\Users\\\\Dicky\\\\AppData\\\\Local\\\\Programs\\\\Python\\\\Python310',\n",
       " '',\n",
       " 'C:\\\\Users\\\\Dicky\\\\AppData\\\\Roaming\\\\Python\\\\Python310\\\\site-packages',\n",
       " 'C:\\\\Users\\\\Dicky\\\\AppData\\\\Roaming\\\\Python\\\\Python310\\\\site-packages\\\\win32',\n",
       " 'C:\\\\Users\\\\Dicky\\\\AppData\\\\Roaming\\\\Python\\\\Python310\\\\site-packages\\\\win32\\\\lib',\n",
       " 'C:\\\\Users\\\\Dicky\\\\AppData\\\\Roaming\\\\Python\\\\Python310\\\\site-packages\\\\Pythonwin',\n",
       " 'c:\\\\Users\\\\Dicky\\\\AppData\\\\Local\\\\Programs\\\\Python\\\\Python310\\\\lib\\\\site-packages']"
      ]
     },
     "execution_count": 1,
     "metadata": {},
     "output_type": "execute_result"
    }
   ],
   "source": [
    "%matplotlib inline\n",
    "import cv2\n",
    "import numpy as np\n",
    "import sys\n",
    "import matplotlib.pyplot as plt\n",
    "import os\n",
    "import math\n",
    "\n",
    "sys.path"
   ]
  },
  {
   "attachments": {},
   "cell_type": "markdown",
   "metadata": {},
   "source": [
    "## Region Mask\n",
    "\n",
    "- Highly useful while extracting any part of the image, defining and working with **non-rectangular ROI** (region of interest). <br>\n",
    "  <img src=\"https://github.com/Muhammad-Yunus/Belajar-Computer-Vision/blob/master/11.%20OpenCV%20-%20Part%205/resource/sample_mask.png?raw=true\" style=\"width:500px; margin-top:10px\"></img>\n",
    "- Region Mask on image is user **Bitwise Operation** (AND, OR, NOT, and XOR operation).\n",
    "<img src=\"https://github.com/Muhammad-Yunus/Belajar-Computer-Vision/blob/master/11.%20OpenCV%20-%20Part%205/resource/bitwise_operator.jpg?raw=true\" style=\"width:500px; margin-top:10px\"></img>\n",
    "- Method :\n",
    "    - `cv2.bitwise_not(img1, mask)`\n",
    "    - `cv2.bitwise_and(img1, img2, mask)`\n",
    "    - `cv2.bitwise_or(img1, img2, mask)`\n",
    "    - `cv2.bitwise_xor(img1, img2, mask)`\n",
    "- with parameter :\n",
    "    - `img1` : input image 1\n",
    "    - `img2` : input image 2\n",
    "    - `mask` : optional operation mask, **8-bit single channel** array, that specifies **elements of the output array to be changed**. <br>\n",
    "    <img src=\"https://github.com/Muhammad-Yunus/Belajar-Computer-Vision/blob/master/11.%20OpenCV%20-%20Part%205/resource/mask_hand.png?raw=true\" style=\"width:200px; margin-top:10px\"></img>\n",
    "    "
   ]
  },
  {
   "attachments": {},
   "cell_type": "markdown",
   "metadata": {},
   "source": [
    "#### Bitwise Not\n",
    "- Bitwise not dalam python menggunakan operator `~`\n",
    "- Misal pixel value $200_{10} = 11001000_2$, \n",
    "- Jika diterapkan bitwise not pada pixel tersebut, maka akn dihasilkan nilai pixel baru $00110111_2=55_{10}$\n",
    "\n",
    "```\n",
    "11001000\n",
    "-------- ~\n",
    "00110111\n",
    "```"
   ]
  },
  {
   "cell_type": "code",
   "execution_count": 3,
   "metadata": {},
   "outputs": [
    {
     "name": "stdout",
     "output_type": "stream",
     "text": [
      "[55]\n"
     ]
    }
   ],
   "source": [
    "a = np.array([200]).astype(np.uint8)\n",
    "print(~a)"
   ]
  },
  {
   "cell_type": "code",
   "execution_count": 4,
   "metadata": {},
   "outputs": [
    {
     "data": {
      "text/plain": [
       "array([[55]], dtype=uint8)"
      ]
     },
     "execution_count": 4,
     "metadata": {},
     "output_type": "execute_result"
    }
   ],
   "source": [
    "cv2.bitwise_not(a)"
   ]
  },
  {
   "attachments": {},
   "cell_type": "markdown",
   "metadata": {},
   "source": [
    "- Bitwise not untuk mask lingkaran putih"
   ]
  },
  {
   "cell_type": "code",
   "execution_count": 5,
   "metadata": {},
   "outputs": [],
   "source": [
    "img = cv2.imread('lena.jpg')\n",
    "h, w, c = img.shape\n",
    "\n",
    "mask = np.zeros((h ,w)).astype(np.uint8)\n",
    "cv2.circle(mask, (h//2, w//2), 100, (255,255,255), -1)\n",
    "\n",
    "mask_inv = cv2.bitwise_not(img, mask=mask)\n",
    "\n",
    "cv2.imshow('original',img)\n",
    "cv2.imshow('mask',mask)\n",
    "cv2.imshow('mask_inv',mask_inv)\n",
    "cv2.waitKey(0)\n",
    "cv2.destroyAllWindows()"
   ]
  },
  {
   "attachments": {},
   "cell_type": "markdown",
   "metadata": {},
   "source": [
    "- Bitwise Not untuk mask hasil thresholding"
   ]
  },
  {
   "cell_type": "code",
   "execution_count": 11,
   "metadata": {},
   "outputs": [],
   "source": [
    "img = cv2.imread('hand.png')\n",
    "gray = cv2.cvtColor(img, cv2.COLOR_BGR2GRAY)\n",
    "ret, thres = cv2.threshold(gray, 120, 255, cv2.THRESH_BINARY_INV)\n",
    "mask_inv = cv2.bitwise_not(img, mask=thres)\n",
    "\n",
    "cv2.imshow('mask_inv',mask_inv)\n",
    "cv2.imshow('mask',thres)\n",
    "cv2.waitKey(0)\n",
    "cv2.destroyAllWindows()"
   ]
  },
  {
   "attachments": {},
   "cell_type": "markdown",
   "metadata": {},
   "source": [
    "- Menambahkan trackbar untuk memvariasikan nilai threshold sebelum di apply Bitwise Not"
   ]
  },
  {
   "cell_type": "code",
   "execution_count": 13,
   "metadata": {},
   "outputs": [],
   "source": [
    "img = cv2.imread('hand.png')\n",
    "gray = cv2.cvtColor(img, cv2.COLOR_BGR2GRAY)\n",
    "\n",
    "max = 255\n",
    "default = 120\n",
    "\n",
    "title_window = 'trackbar'\n",
    "\n",
    "def trackbar(val):\n",
    "    ret, thres = cv2.threshold(gray, val, max, cv2.THRESH_BINARY_INV)\n",
    "    mask_inv =  cv2.bitwise_not(img, mask=thres)\n",
    "    cv2.imshow(title_window, mask_inv)\n",
    "\n",
    "cv2.namedWindow(title_window)\n",
    "cv2.createTrackbar('thres',title_window, default, max, trackbar)\n",
    "\n",
    "trackbar(default)\n",
    "cv2.waitKey(0)\n",
    "cv2.destroyAllWindows()"
   ]
  },
  {
   "attachments": {},
   "cell_type": "markdown",
   "metadata": {},
   "source": [
    "### Bitwise And\n",
    "\n",
    "- Bitwise And dalam python menggunakan operator `&`\n",
    "- Misal pixel value 1 = $100_{10} = 01100100_2$, \n",
    "- dan pixel value 2 = $40_{10} = 00101000_2$, \n",
    "- Jika diterapkan bitwise And pada pixel tersebut, maka akan dihasilkan nilai pixel baru $00100000_2=32_{10}$\n",
    "\n",
    "```\n",
    "01100100\n",
    "00101000\n",
    "-------- &\n",
    "00100000\n",
    "```"
   ]
  },
  {
   "cell_type": "code",
   "execution_count": 16,
   "metadata": {},
   "outputs": [
    {
     "name": "stdout",
     "output_type": "stream",
     "text": [
      "[32]\n"
     ]
    }
   ],
   "source": [
    "a = np.array([100]).astype(np.uint8)\n",
    "b = np.array([40]).astype(np.uint8)\n",
    "\n",
    "c = a&b\n",
    "print(c)"
   ]
  },
  {
   "cell_type": "code",
   "execution_count": 18,
   "metadata": {},
   "outputs": [
    {
     "data": {
      "text/plain": [
       "array([[32]], dtype=uint8)"
      ]
     },
     "execution_count": 18,
     "metadata": {},
     "output_type": "execute_result"
    }
   ],
   "source": [
    "cv2.bitwise_and(a, b)"
   ]
  },
  {
   "attachments": {},
   "cell_type": "markdown",
   "metadata": {},
   "source": [
    "- Bitwise AND untuk mask kotak putih"
   ]
  },
  {
   "cell_type": "code",
   "execution_count": 21,
   "metadata": {},
   "outputs": [],
   "source": [
    "img1 = cv2.imread('lena.jpg')\n",
    "img2 = cv2.imread('apple.jpg')\n",
    "h, w, c = img1.shape\n",
    "\n",
    "mask = np.zeros((h,w)).astype(np.uint8)\n",
    "cv2.rectangle(mask, (h//4, w//4),(3*h//4, 3*w//4), (255,255,255),-1)\n",
    "\n",
    "mask_and = cv2.bitwise_and(img2, img2, mask=mask)\n",
    "\n",
    "cv2.imshow('mask_and',mask_and)\n",
    "cv2.imshow('mask',mask)\n",
    "cv2.waitKey(0)\n",
    "cv2.destroyAllWindows()"
   ]
  },
  {
   "attachments": {},
   "cell_type": "markdown",
   "metadata": {},
   "source": [
    "- Bitwise AND untukl mask hasil thresholding"
   ]
  },
  {
   "cell_type": "code",
   "execution_count": 31,
   "metadata": {},
   "outputs": [],
   "source": [
    "img1 = cv2.imread('apple.jpg')\n",
    "gray = cv2.cvtColor(img1, cv2.COLOR_BGR2GRAY)\n",
    "ret, thres = cv2.threshold(gray, 240, 255, cv2.THRESH_BINARY_INV)\n",
    "\n",
    "img2 = cv2.imread('lena.jpg')\n",
    "mask_inv = cv2.bitwise_and(img1, img2, mask=thres)\n",
    "\n",
    "cv2.imshow('mask_inv',mask_inv)\n",
    "cv2.imshow('mask',thres)\n",
    "cv2.waitKey(0)\n",
    "cv2.destroyAllWindows()"
   ]
  },
  {
   "attachments": {},
   "cell_type": "markdown",
   "metadata": {},
   "source": [
    "### Bitwise Or\n",
    "\n",
    "- Bitwise Or dalam python menggunakan operator `&`\n",
    "- Misal pixel value 1 = $100_{10} = 01100100_2$, \n",
    "- dan pixel value 2 = $40_{10} = 00101000_2$, \n",
    "- Jika diterapkan bitwise And pada pixel tersebut, maka akan dihasilkan nilai pixel baru $01101100_2=108_{10}$\n",
    "\n",
    "```\n",
    "01100100\n",
    "00101000\n",
    "-------- |\n",
    "01101100\n",
    "```"
   ]
  },
  {
   "cell_type": "code",
   "execution_count": 25,
   "metadata": {},
   "outputs": [
    {
     "data": {
      "text/plain": [
       "array([108], dtype=uint8)"
      ]
     },
     "execution_count": 25,
     "metadata": {},
     "output_type": "execute_result"
    }
   ],
   "source": [
    "a = np.array([100]).astype(np.uint8)\n",
    "b = np.array([40]).astype(np.uint8)\n",
    "\n",
    "a | b"
   ]
  },
  {
   "cell_type": "code",
   "execution_count": 26,
   "metadata": {},
   "outputs": [
    {
     "data": {
      "text/plain": [
       "array([[108]], dtype=uint8)"
      ]
     },
     "execution_count": 26,
     "metadata": {},
     "output_type": "execute_result"
    }
   ],
   "source": [
    "cv2.bitwise_or(a, b)"
   ]
  },
  {
   "attachments": {},
   "cell_type": "markdown",
   "metadata": {},
   "source": [
    "- Bitwise Or untuk mask lingkaran putih"
   ]
  },
  {
   "cell_type": "code",
   "execution_count": 32,
   "metadata": {},
   "outputs": [],
   "source": [
    "img1 = cv2.imread('lena.jpg')\n",
    "img2 = cv2.imread('apple.jpg')\n",
    "h, w, c = img1.shape\n",
    "\n",
    "mask = np.zeros((h,w)).astype(np.uint8)\n",
    "cv2.circle(mask, (h//2, w//2), 100,(255,255,255),-1)\n",
    "\n",
    "mask_or = cv2.bitwise_or(img1, img2, mask=mask)\n",
    "\n",
    "cv2.imshow('mask_or',mask_or)\n",
    "cv2.imshow('mask',mask)\n",
    "cv2.waitKey(0)\n",
    "cv2.destroyAllWindows()"
   ]
  },
  {
   "attachments": {},
   "cell_type": "markdown",
   "metadata": {},
   "source": [
    "- Bitwise OR untuk mask hasikl thresholding"
   ]
  },
  {
   "cell_type": "code",
   "execution_count": 33,
   "metadata": {},
   "outputs": [],
   "source": [
    "img1 = cv2.imread('apple.jpg')\n",
    "gray = cv2.cvtColor(img1, cv2.COLOR_BGR2GRAY)\n",
    "ret, thres = cv2.threshold(gray, 240, 255, cv2.THRESH_BINARY_INV)\n",
    "\n",
    "img2 = cv2.imread('lena.jpg')\n",
    "mask_inv = cv2.bitwise_or(img1, img2, mask=thres)\n",
    "\n",
    "cv2.imshow('mask_inv',mask_inv)\n",
    "cv2.imshow('mask',thres)\n",
    "cv2.waitKey(0)\n",
    "cv2.destroyAllWindows()"
   ]
  },
  {
   "attachments": {},
   "cell_type": "markdown",
   "metadata": {},
   "source": [
    "## Range Thresholding\n",
    "\n",
    "- Image thresholding using `cv2.threshold()` function. <br>\n",
    "<img src=\"https://github.com/Muhammad-Yunus/Belajar-Computer-Vision/blob/master/11.%20OpenCV%20-%20Part%205/resource/Binary_Thresh.png?raw=true\" style=\"width: 500px; margin-top:10px;\" > </img>\n",
    "- Now we will learn how to do **range based thresholding** using  `cv2.inRange()` function. <br>\n",
    "<img src=\"https://github.com/Muhammad-Yunus/Belajar-Computer-Vision/blob/master/11.%20OpenCV%20-%20Part%205/resource/Range_Thresh.png?raw=true\" style=\"width: 500px; margin-top:10px;\" > </img>\n",
    "- The concept remains the same, but now we add a range of pixel values we need.\n",
    "- Method `cv2.inRange(img, lower_color, upper_color)`\n",
    "- where theparameter :\n",
    "    - `img` : input image (HSV color space)\n",
    "    - `lower_color` : tuple (H, S, V) of lower color \n",
    "    - `upper_color` : tuple (H, S, V) of upper color \n",
    "- `H, S, V` value range in OpenCV:\n",
    "    - `H` (0 - 180)\n",
    "    - `S` (0 - 255)\n",
    "    - `V` (0 - 255)\n",
    "- `cv2.inRange()` using **HSV colorspace**, since the **hue channel** models the **color type**, it is very useful in image processing tasks that need to **segment objects based on its color**.<br>\n",
    "<img src=\"https://github.com/Muhammad-Yunus/Belajar-Computer-Vision/blob/master/11.%20OpenCV%20-%20Part%205/resource/Threshold_inRange_HSV_colorspace.jpg?raw=true\" style=\"width: 300px; margin-top:10px;\" > </img>\n",
    "- Since colors in the **RGB colorspace** are coded using the **three channels**, it is **more difficult** to segment an object in the image based on its color.<br>\n",
    "<img src=\"https://github.com/Muhammad-Yunus/Belajar-Computer-Vision/blob/master/11.%20OpenCV%20-%20Part%205/resource/Threshold_inRange_RGB_colorspace.jpg?raw=true\" style=\"width: 300px; margin-top:10px;\" > </img>\n",
    "- **HSV colorspace** model : <br>\n",
    "<img src=\"https://github.com/Muhammad-Yunus/Belajar-Computer-Vision/blob/master/11.%20OpenCV%20-%20Part%205/resource/HSV_hue_model.png?raw=true\" style=\"width: 300px; margin-top:10px;\" > </img>"
   ]
  },
  {
   "attachments": {},
   "cell_type": "markdown",
   "metadata": {},
   "source": [
    "- Conver RGB value to HSV (`cv2.cvtColor()`)"
   ]
  },
  {
   "cell_type": "code",
   "execution_count": 34,
   "metadata": {},
   "outputs": [
    {
     "name": "stdout",
     "output_type": "stream",
     "text": [
      "[[[120 255 255]]]\n"
     ]
    }
   ],
   "source": [
    "color = np.uint8([[[255,0,0]]])\n",
    "hsv = cv2.cvtColor(color, cv2.COLOR_BGR2HSV)\n",
    "print(hsv)"
   ]
  },
  {
   "attachments": {},
   "cell_type": "markdown",
   "metadata": {},
   "source": [
    "- Detected Red, Green, Blue Color from image"
   ]
  },
  {
   "cell_type": "code",
   "execution_count": 36,
   "metadata": {},
   "outputs": [],
   "source": [
    "img = cv2.imread('blocks.png')\n",
    "\n",
    "#* convert to hsv\n",
    "hsv = cv2.cvtColor(img, cv2.COLOR_BGR2HSV)\n",
    "\n",
    "#* define range of blue color in HSV\n",
    "lower_blue = np. array([110,50,50])\n",
    "upper_blue = np. array([130,255,255])\n",
    "\n",
    "#* define range of green color in HSV\n",
    "lower_green = np. array([50,50,50])\n",
    "upper_green = np. array([70,255,255])\n",
    "\n",
    "#* define range of red color in HSV\n",
    "lower_red = np. array([-10,50,50])\n",
    "upper_red = np. array([10,255,255])\n",
    "\n",
    "#* threshold the HSV image to get only blue colors\n",
    "mask_blue = cv2.inRange(hsv.copy(), lower_blue, upper_blue)\n",
    "mask_green = cv2.inRange(hsv.copy(), lower_green, upper_green)\n",
    "mask_red = cv2.inRange(hsv.copy(), lower_red, upper_red)\n",
    "\n",
    "mask = mask_blue + mask_red + mask_green\n",
    "\n",
    "res = cv2.bitwise_and(img, img, mask=mask)\n",
    "\n",
    "cv2.imshow('frame',img)\n",
    "cv2.imshow('res',res)\n",
    "cv2.imshow('mask',mask)\n",
    "cv2.waitKey(0)\n",
    "cv2.destroyAllWindows()"
   ]
  },
  {
   "attachments": {},
   "cell_type": "markdown",
   "metadata": {},
   "source": [
    "### Task\n",
    "- Input video Detect color yellow"
   ]
  },
  {
   "cell_type": "code",
   "execution_count": null,
   "metadata": {},
   "outputs": [],
   "source": [
    "\n",
    "#* ---jawaban---\n",
    "\n",
    "\n",
    "\n"
   ]
  }
 ],
 "metadata": {
  "kernelspec": {
   "display_name": "Python 3",
   "language": "python",
   "name": "python3"
  },
  "language_info": {
   "codemirror_mode": {
    "name": "ipython",
    "version": 3
   },
   "file_extension": ".py",
   "mimetype": "text/x-python",
   "name": "python",
   "nbconvert_exporter": "python",
   "pygments_lexer": "ipython3",
   "version": "3.10.9"
  },
  "orig_nbformat": 4
 },
 "nbformat": 4,
 "nbformat_minor": 2
}
